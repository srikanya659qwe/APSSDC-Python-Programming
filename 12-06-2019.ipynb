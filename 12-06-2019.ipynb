{
 "cells": [
  {
   "cell_type": "markdown",
   "metadata": {},
   "source": [
    "### Problem Solving And Programming\n",
    "#### Date 12 June 2019\n",
    "#### Day Objectives\n",
    "- String Slicing\n",
    "- Function in Python\n",
    "- Basic Problems related to conditional statements using functions\n",
    "- Iteration in python \n",
    "- Python Data Structures-lists,tuples and dictionaries\n",
    "- Basic operations on data structures\n",
    "- Applying Data Structures to solve problems\n"
   ]
  },
  {
   "cell_type": "code",
   "execution_count": null,
   "metadata": {},
   "outputs": [],
   "source": []
  },
  {
   "cell_type": "markdown",
   "metadata": {},
   "source": [
    "### Srting Slicing"
   ]
  },
  {
   "cell_type": "code",
   "execution_count": 22,
   "metadata": {},
   "outputs": [
    {
     "data": {
      "text/plain": [
       "'nhy'"
      ]
     },
     "execution_count": 22,
     "metadata": {},
     "output_type": "execute_result"
    }
   ],
   "source": [
    "s1=\"python\"\n",
    "\n",
    "s1[0] ###Accessing the first character in a string \n",
    "\n",
    "s1[1] ###Accessing the second character in a string \n",
    "\n",
    "s1[len(s1)-1] ### Accessing the last character in a string \n",
    "\n",
    "s1[-1] ### Accessing the last character in a string \n",
    "\n",
    "s1[-2] ### Accessing the last penultimate character in a string \n",
    "\n",
    "s1[0:2] ### Accessing the first two characters in a string\n",
    "\n",
    "s1[-2:] ### Accessing the last two characters in a srring\n",
    "\n",
    "s1[4:] ### Accessing the character 5th character to end of a string\n",
    "\n",
    "### Accessing all characters except first and last character\n",
    "\n",
    "s1[1:-1]\n",
    "\n",
    "#### Accessing the middle character in a string\n",
    "\n",
    "s1[len(s1)//2]\n",
    "\n",
    "s1[len(s1)//3]\n",
    "\n",
    "###Reverse of a string\n",
    "s1[-1::-1]\n",
    "\n",
    "s1[-1:-3:-1] ## Accessing the last two characters in  a reverse string \n",
    "\n",
    "#reverse the middle two characters in an even length string \n",
    "\n",
    "s1[len(s1)//2:(len(s1)//2)-2:-1]\n",
    "\n",
    "##Alternative characters of a string same oreder\n",
    "### \"python\" -\"pto\"\n",
    "\n",
    "s1[::2]\n",
    "\n",
    "##Acceessing alternate character of a string in reverse order\n",
    "###\"python\" -\"nhy\"\n",
    "\n",
    "s1[::-2]\n",
    "\n",
    "\n",
    "\n",
    "\n"
   ]
  },
  {
   "cell_type": "code",
   "execution_count": 15,
   "metadata": {},
   "outputs": [
    {
     "data": {
      "text/plain": [
       "'p'"
      ]
     },
     "execution_count": 15,
     "metadata": {},
     "output_type": "execute_result"
    }
   ],
   "source": [
    "s1[0]\n"
   ]
  },
  {
   "cell_type": "code",
   "execution_count": 11,
   "metadata": {},
   "outputs": [
    {
     "data": {
      "text/plain": [
       "'v'"
      ]
     },
     "execution_count": 11,
     "metadata": {},
     "output_type": "execute_result"
    }
   ],
   "source": [
    "s1[-1]"
   ]
  },
  {
   "cell_type": "code",
   "execution_count": 13,
   "metadata": {},
   "outputs": [
    {
     "data": {
      "text/plain": [
       "'c'"
      ]
     },
     "execution_count": 13,
     "metadata": {},
     "output_type": "execute_result"
    }
   ],
   "source": [
    "s1[len(s1)-2]"
   ]
  },
  {
   "cell_type": "code",
   "execution_count": null,
   "metadata": {},
   "outputs": [],
   "source": []
  },
  {
   "cell_type": "markdown",
   "metadata": {},
   "source": [
    "### functions"
   ]
  },
  {
   "cell_type": "code",
   "execution_count": 28,
   "metadata": {},
   "outputs": [
    {
     "data": {
      "text/plain": [
       "'nohtyP'"
      ]
     },
     "execution_count": 28,
     "metadata": {},
     "output_type": "execute_result"
    }
   ],
   "source": [
    "###Function to reverse of a string\n",
    "def reverseString(s1):\n",
    "    return s1[::-1]\n",
    "\n",
    "reverseString(\"Python\")"
   ]
  },
  {
   "cell_type": "code",
   "execution_count": 38,
   "metadata": {},
   "outputs": [
    {
     "name": "stdout",
     "output_type": "stream",
     "text": [
      "enter the string: 101\n"
     ]
    },
    {
     "data": {
      "text/plain": [
       "True"
      ]
     },
     "execution_count": 38,
     "metadata": {},
     "output_type": "execute_result"
    }
   ],
   "source": [
    "###Function to check if a string is Palindrome or not\n",
    "s=str(input(\"enter the string: \"))\n",
    "def palindrome(s):\n",
    "    if s==s[::-1]:\n",
    "        return True\n",
    "    else:\n",
    "        return False\n",
    "palindrome(s)"
   ]
  },
  {
   "cell_type": "code",
   "execution_count": 43,
   "metadata": {},
   "outputs": [
    {
     "name": "stdout",
     "output_type": "stream",
     "text": [
      "Enter the year:1996\n"
     ]
    },
    {
     "data": {
      "text/plain": [
       "True"
      ]
     },
     "execution_count": 43,
     "metadata": {},
     "output_type": "execute_result"
    }
   ],
   "source": [
    "###Function to check if a given year is leap year\n",
    "y=int(input(\"Enter the year:\"))\n",
    "def year(y):\n",
    "        if(y%400==0 or(y%100!=0 and y%4==0)):\n",
    "            return True\n",
    "        else:\n",
    "            return False\n",
    "        \n",
    "year(y)\n",
    "        "
   ]
  },
  {
   "cell_type": "code",
   "execution_count": 11,
   "metadata": {},
   "outputs": [
    {
     "name": "stdout",
     "output_type": "stream",
     "text": [
      "Enter the number:123\n"
     ]
    },
    {
     "data": {
      "text/plain": [
       "3"
      ]
     },
     "execution_count": 11,
     "metadata": {},
     "output_type": "execute_result"
    }
   ],
   "source": [
    "### count no of digits\n",
    "n=int(input(\"Enter the number:\"))\n",
    "def num(n):\n",
    "    c=0\n",
    "    while n!=0: \n",
    "         c=c+1\n",
    "         n=n//10\n",
    "       \n",
    "       \n",
    "    return c\n",
    "num(n)\n",
    "    "
   ]
  },
  {
   "cell_type": "code",
   "execution_count": 1,
   "metadata": {},
   "outputs": [
    {
     "name": "stdout",
     "output_type": "stream",
     "text": [
      "Enter the string:123\n"
     ]
    },
    {
     "data": {
      "text/plain": [
       "3"
      ]
     },
     "execution_count": 1,
     "metadata": {},
     "output_type": "execute_result"
    }
   ],
   "source": [
    "def number(n):\n",
    "    return len(n)\n",
    "n=(input(\"Enter the string:\"))\n",
    "number(n)"
   ]
  },
  {
   "cell_type": "code",
   "execution_count": 17,
   "metadata": {},
   "outputs": [
    {
     "data": {
      "text/plain": [
       "14"
      ]
     },
     "execution_count": 17,
     "metadata": {},
     "output_type": "execute_result"
    }
   ],
   "source": [
    "def greatest(n1,n2,n3,n4):\n",
    "    if n1 > n2 and n1 > n3 and n1 > n4:\n",
    "        return n1\n",
    "    elif n2 > n3 and n2 > n4:\n",
    "        return n2\n",
    "    elif n3 > n4:\n",
    "        return n3\n",
    "    return n4\n",
    "greatest(1,12,13,14)"
   ]
  },
  {
   "cell_type": "code",
   "execution_count": null,
   "metadata": {},
   "outputs": [],
   "source": [
    "### Iterations\n",
    "- for\n",
    "- while\n",
    "#### for loop in python\n",
    "[lb,ub]\n",
    "  for number in range (lb,ub+1)\n"
   ]
  },
  {
   "cell_type": "code",
   "execution_count": 29,
   "metadata": {},
   "outputs": [
    {
     "name": "stdout",
     "output_type": "stream",
     "text": [
      "1 2 3 4 5 6 7 8 9 10 11 12 13 14 15 16 17 18 19 20 21 22 23 24 25 26 27 28 29 30 1 2 3 4 5 6 7 8 9 10 "
     ]
    }
   ],
   "source": [
    "###Function to print n natural nos\n",
    "\n",
    "def printnNaturalNumbers(n):\n",
    "    for i in range(1,n+1):\n",
    "        print(i,end=\" \")\n",
    "    return\n",
    "\n",
    "printnNaturalNumbers(30)\n",
    "printnNaturalNumbers(10)\n",
    "\n",
    "\n"
   ]
  },
  {
   "cell_type": "code",
   "execution_count": 32,
   "metadata": {},
   "outputs": [
    {
     "name": "stdout",
     "output_type": "stream",
     "text": [
      "1 2 3 4 5 6 7 8 9 10 11 12 13 14 15 16 17 18 19 20 "
     ]
    }
   ],
   "source": [
    "###Function to print N natural numbers using while loop\n",
    "\n",
    "def natural(n):\n",
    "    i=1\n",
    "    while i <= n:\n",
    "        print(i,end=\" \")\n",
    "        i=i+1\n",
    "    return\n",
    "natural(20)"
   ]
  },
  {
   "cell_type": "code",
   "execution_count": 11,
   "metadata": {},
   "outputs": [
    {
     "name": "stdout",
     "output_type": "stream",
     "text": [
      "500 501 502 503 504 505 506 507 508 509 510 511 512 513 514 515 516 517 518 519 520 521 522 523 524 525 "
     ]
    }
   ],
   "source": [
    "#Function to print the alternative values in a range\n",
    "#[500,550] ->500 502 504..........550\n",
    "#(500,550) ->501 503 505 ..........549\n",
    "#range(500,550) ->500 501 502 ..... 549\n",
    "#All set based functions in python have start value inclusive end value is exclusive\n",
    "\n",
    "\n",
    "\n",
    "###write a program to print alternate values\n",
    "def alternatevalue(start,end):\n",
    "    for i in range(start,end+1,):\n",
    "        print(i,end=\" \")\n",
    "    return\n",
    "alternatevalue(500,525)\n"
   ]
  },
  {
   "cell_type": "code",
   "execution_count": 14,
   "metadata": {},
   "outputs": [
    {
     "name": "stdout",
     "output_type": "stream",
     "text": [
      "525 524 523 522 521 520 519 518 517 516 515 514 513 512 511 510 509 508 507 506 505 504 503 502 501 "
     ]
    }
   ],
   "source": [
    "###function to print reverse of a given range in the same \n",
    "def reverserange(start,end):\n",
    "    for i in range(end,start,-1):\n",
    "        print(i,end=\" \")\n",
    "    return \n",
    "reverserange(500,525)\n"
   ]
  },
  {
   "cell_type": "code",
   "execution_count": 20,
   "metadata": {},
   "outputs": [
    {
     "name": "stdout",
     "output_type": "stream",
     "text": [
      "9 7 5 3 "
     ]
    }
   ],
   "source": [
    "#function to print the odd nos in a range\n",
    "\n",
    "def odd(start,end):\n",
    "    for i in range(end,start,-1):\n",
    "        if(i%2!=0):\n",
    "            print(i,end=\" \")\n",
    "    return\n",
    "        \n",
    "odd(1,10)"
   ]
  },
  {
   "cell_type": "code",
   "execution_count": 38,
   "metadata": {},
   "outputs": [
    {
     "data": {
      "text/plain": [
       "55"
      ]
     },
     "execution_count": 38,
     "metadata": {},
     "output_type": "execute_result"
    }
   ],
   "source": [
    "#Function to print sumof numbers in a range\n",
    "\n",
    "def sumnumbers(start,end):\n",
    "    sum=0\n",
    "    for i in range(start,end+1):\n",
    "            sum=sum+i\n",
    "    return sum\n",
    "    \n",
    "sumnumbers(1,10)\n",
    "       \n",
    "          \n",
    "        \n",
    "        "
   ]
  },
  {
   "cell_type": "code",
   "execution_count": 41,
   "metadata": {},
   "outputs": [
    {
     "data": {
      "text/plain": [
       "3"
      ]
     },
     "execution_count": 41,
     "metadata": {},
     "output_type": "execute_result"
    }
   ],
   "source": [
    "#Function to calculate the average of a given range\n",
    "\n",
    "def average(start,end):\n",
    "    sum=0\n",
    "    c=0\n",
    "    for i in range(start,end+1):\n",
    "            sum=sum+i\n",
    "            c=c+1\n",
    "    return sum//c\n",
    "average(1,5)\n",
    "\n",
    "            \n",
    "      \n",
    "            "
   ]
  },
  {
   "cell_type": "code",
   "execution_count": 10,
   "metadata": {},
   "outputs": [
    {
     "name": "stdout",
     "output_type": "stream",
     "text": [
      "Enter the first range:1\n",
      "Enter the second range:100\n",
      "6 12 18 24 30 36 42 48 54 60 66 72 78 84 90 96 "
     ]
    }
   ],
   "source": [
    "#### Function to print all numbers divisible by 6 and not a factor of 100 inn a given range(lb,ub)inclusive\n",
    "a=int(input(\"Enter the first range:\"))\n",
    "b=int(input(\"Enter the second range:\"))\n",
    "def divisible(a,b):\n",
    "    for i in range(a,b+1):\n",
    "        if i%6==0 and i%100!=0:\n",
    "            print(i,end=\" \")\n",
    "    return\n",
    "divisible(a,b)"
   ]
  },
  {
   "cell_type": "code",
   "execution_count": 17,
   "metadata": {},
   "outputs": [
    {
     "name": "stdout",
     "output_type": "stream",
     "text": [
      "Enter the first range:1\n",
      "Enter the second range:3\n"
     ]
    },
    {
     "data": {
      "text/plain": [
       "8.0"
      ]
     },
     "execution_count": 17,
     "metadata": {},
     "output_type": "execute_result"
    }
   ],
   "source": [
    "## Function to find the average of cubes of all even numbers ina a given range\n",
    "a=int(input(\"Enter the first range:\"))\n",
    "b=int(input(\"Enter the second range:\"))\n",
    "def avg(a,b):\n",
    "    sum=0\n",
    "    count=0\n",
    "    for i in range(a,b+1):\n",
    "        if i%2==0:\n",
    "            sum +=i ** 3\n",
    "            count +=1\n",
    "    return(sum/count)\n",
    "            \n",
    "\n",
    "avg(a,b)"
   ]
  },
  {
   "cell_type": "code",
   "execution_count": null,
   "metadata": {},
   "outputs": [],
   "source": [
    "### Function to generate the list of factors of a given number\n",
    "n=int(input(\"Enter the number:\"))\n",
    "def fact(n):\n",
    "    for i in range(1,n+1):\n",
    "        if(n%i==0):\n",
    "            print(i,end=\" \")\n",
    "        \n",
    "fact(n)\n"
   ]
  },
  {
   "cell_type": "code",
   "execution_count": 12,
   "metadata": {},
   "outputs": [
    {
     "name": "stdout",
     "output_type": "stream",
     "text": [
      "Enter the number:12\n"
     ]
    },
    {
     "data": {
      "text/plain": [
       "479001600"
      ]
     },
     "execution_count": 12,
     "metadata": {},
     "output_type": "execute_result"
    }
   ],
   "source": [
    "### Function to calculate of a given number\n",
    "n=int(input(\"Enter the number:\"))\n",
    "def factorial(n):\n",
    "    f=1\n",
    "    for i in range(1,n+1):\n",
    "        f=f*i;\n",
    "    return f\n",
    "        \n",
    "factorial(n)\n",
    "        "
   ]
  },
  {
   "cell_type": "code",
   "execution_count": 2,
   "metadata": {},
   "outputs": [
    {
     "name": "stdout",
     "output_type": "stream",
     "text": [
      "Enter the number:5\n",
      "prime\n"
     ]
    }
   ],
   "source": [
    "###Function to check if a given no is prime\n",
    "n=int(input(\"Enter the number:\"))\n",
    "def prime(n):\n",
    "    c=0\n",
    "    for i in range(1,n+1):\n",
    "        if(n%i==0):\n",
    "            c=c+1\n",
    "    if(c==2):\n",
    "        print(\"prime\")\n",
    "    else:\n",
    "        print(\"Not a prime\")\n",
    "prime(n)\n",
    "        "
   ]
  },
  {
   "cell_type": "code",
   "execution_count": 1,
   "metadata": {},
   "outputs": [
    {
     "name": "stdout",
     "output_type": "stream",
     "text": [
      "Enter the number:4\n",
      "2\n",
      "3\n"
     ]
    }
   ],
   "source": [
    "i=1\n",
    "x = int(input(\"Enter the number:\"))\n",
    "for k in range (1, (x+1), 1):\n",
    "    c=0\n",
    "    for j in range (1, (i+1), 1):\n",
    "        a = i%j\n",
    "        if (a==0):\n",
    "            c = c+1\n",
    "\n",
    "    if (c==2):\n",
    "          print (i)\n",
    "    else:\n",
    "          k = k-1\n",
    "\n",
    "    i=i+1"
   ]
  },
  {
   "cell_type": "code",
   "execution_count": 20,
   "metadata": {},
   "outputs": [
    {
     "name": "stdout",
     "output_type": "stream",
     "text": [
      "Enter the first  number:1\n",
      "Enter the second number7\n"
     ]
    },
    {
     "data": {
      "text/plain": [
       "3"
      ]
     },
     "execution_count": 20,
     "metadata": {},
     "output_type": "execute_result"
    }
   ],
   "source": [
    "####average of the given prime number\n",
    "n=int(input(\"Enter the first  number:\"))\n",
    "n1=int(input(\"Enter the second number\"))\n",
    "def prime(n,n1):\n",
    "    sum=0\n",
    "    for i in range(n,n1+1):\n",
    "        c=0\n",
    "        \n",
    "        for j in range(1,i+1):\n",
    "            if(i%j==0):\n",
    "                 c=c+1  \n",
    "    if(c==2):\n",
    "        sum=sum+i\n",
    "        \n",
    "    return sum//c\n",
    "    \n",
    "prime(n,n1)\n"
   ]
  },
  {
   "cell_type": "markdown",
   "metadata": {},
   "source": [
    "### Advanced Problems"
   ]
  },
  {
   "cell_type": "code",
   "execution_count": null,
   "metadata": {},
   "outputs": [],
   "source": [
    "###average of the factorials\n",
    "n1=int(input(\"enter the first range:\"))\n",
    "n2=int(input(\"enter the second range:\"))\n",
    "def factorials(n1,n2):\n",
    "    t=0\n",
    "    count=0\n",
    "    for i in range(n1,n2+1):\n",
    "        sum=1\n",
    "        for j in range(1,i+1):\n",
    "            sum=sum*j\n",
    "        count=count+1\n",
    "        t=t+sum\n",
    "    print(t/count)\n",
    "    \n",
    "factorials(n1,n2)\n",
    "        \n",
    "    "
   ]
  },
  {
   "cell_type": "code",
   "execution_count": null,
   "metadata": {},
   "outputs": [],
   "source": [
    "###Function to a table\n",
    "n=int(input(\"Enter the number:\"))\n",
    "lb=int(input(\"Enter the lower bound:\"))\n",
    "ub=int(input(\"Enter the upper bound:\"))\n",
    "def table(n,lb,ub):\n",
    "    for i in range(lb,ub+1):\n",
    "        \n",
    "        \n",
    "        print(n,\"x\",i,\"=\",n*i)\n",
    "    \n",
    "    return\n",
    "\n",
    "\n",
    "table(n,lb,ub)"
   ]
  },
  {
   "cell_type": "code",
   "execution_count": 9,
   "metadata": {},
   "outputs": [
    {
     "name": "stdout",
     "output_type": "stream",
     "text": [
      "Enter the number:3\n",
      "1 153 371 "
     ]
    }
   ],
   "source": [
    "### odd Armstrong numbers in a given range\n",
    "n=int(input(\"Enter the number:\"))\n",
    "def amstrong(n):\n",
    "        count=0\n",
    "        i=1\n",
    "        while(count<n):\n",
    "            j=i\n",
    "            rev=0\n",
    "            while(j!=0):\n",
    "                rem=j%10\n",
    "                rev=rev+rem**3\n",
    "                j=j//10\n",
    "            if rev==i and i%2==1:\n",
    "                print(i,end=\" \")\n",
    "                count=count+1\n",
    "            i=i+1\n",
    "amstrong(n)  \n",
    "    \n"
   ]
  },
  {
   "cell_type": "code",
   "execution_count": 36,
   "metadata": {},
   "outputs": [
    {
     "name": "stdout",
     "output_type": "stream",
     "text": [
      "1920 1924 1928 1932 1936 1940 1944 1948 1952 1956 1960 1964 1968 1972 1976 1980 1984 1988 1992 1996 2000 2004 2008 2012 2016 "
     ]
    }
   ],
   "source": [
    "#Function to generate all leap years in a given time period\n",
    "# 2000-2020 ->2000 2004 2008 2012 2016 2020\n",
    "\n",
    "def isLeapYear(y):\n",
    "    if y%400==0 or (y%100!=0 and y%4==0):\n",
    "        return True\n",
    "    else:\n",
    "        return False\n",
    "\n",
    "isLeapYear(2016)\n",
    "\n",
    "\n",
    "\n",
    "def generateLeapYears(startyear,endyear):\n",
    "    for year in range(startyear,endyear+1):\n",
    "        if isLeapYear(year):\n",
    "            print(year,end=\" \")\n",
    "    return \n",
    "generateLeapYears(1919,2019)\n",
    "        "
   ]
  },
  {
   "cell_type": "code",
   "execution_count": 41,
   "metadata": {},
   "outputs": [
    {
     "data": {
      "text/plain": [
       "1095"
      ]
     },
     "execution_count": 41,
     "metadata": {},
     "output_type": "execute_result"
    }
   ],
   "source": [
    "def isLeapYear(y):\n",
    "    if y%400==0 or (y%100!=0 and y%4==0):\n",
    "        return True\n",
    "    else:\n",
    "        return False\n",
    "def numberofDays(startyear, endyear):\n",
    "    sum=0\n",
    "    for y in range(startyear, endyear+1):\n",
    "        if isLeapYear(y):\n",
    "            sum=sum+366\n",
    "        else:\n",
    "            sum=sum+365\n",
    "    return sum\n",
    "numberofDays(2001,2003)"
   ]
  },
  {
   "cell_type": "code",
   "execution_count": 49,
   "metadata": {},
   "outputs": [
    {
     "data": {
      "text/plain": [
       "205248"
      ]
     },
     "execution_count": 49,
     "metadata": {},
     "output_type": "execute_result"
    }
   ],
   "source": [
    "#Function to calculate number of hours for a given period\n",
    "#number of hours(11,1975,3,1999)->2014504 or 2015248\n",
    "#number of hours(5,2019,6,2019)->1464\n",
    "#2,2017,6,2019\n",
    "#No of hours=24*No of days\n",
    "#3 steps \n",
    "  #1.start month year to end of year-calculate no \n",
    "  #2.calculate days for all years b/w start year \n",
    "\n",
    "#excluding feb\n",
    "#first six months- 1,3,4,5,6,7\n",
    "                    #All odd months have \n",
    "    \n",
    "    \n",
    "    \n",
    "    \n",
    "    \n",
    "def numberofdaysmonth(month,year):\n",
    "    if(month==2):\n",
    "        if isLeapYear(year):\n",
    "            return 29\n",
    "        return 28\n",
    "    elif (month<=7 and month % 2!= 0)or(month >7 and month %2==0):\n",
    "        return 31\n",
    "    else:\n",
    "        return 30\n",
    "    \n",
    "def daysinstartyear(startmonth,startyear):\n",
    "    days=0\n",
    "    for month in range(startmonth,13):\n",
    "        days += numberofdaysmonth(month,startyear)\n",
    "    return days\n",
    "\n",
    "def daysinendyear(endmonth,endyear):\n",
    "    days=0\n",
    "    for month in range(1,endmonth+1):\n",
    "        days += numberofdaysmonth(month,endyear)\n",
    "    return days\n",
    "\n",
    "def numberofhours(startmonth,startyear,endmonth,endyear):\n",
    "    days=0\n",
    "    if startyear!=endyear:\n",
    "        days += daysinstartyear(startmonth,startyear)\n",
    "        days += daysinendyear(endmonth,endyear)\n",
    "        \n",
    "        if endyear-startyear==2:\n",
    "            days += numberofDays(startyear+1, startyear+1)\n",
    "        elif endyear-startyear > 2:\n",
    "            days += numberofDays(startyear+1,endyear-1)\n",
    "    else: \n",
    "        for month in range(startmonth,endmonth+1):\n",
    "            \n",
    "            days += numberofdaysmonth(month,startyear)\n",
    "    return 24 * days\n",
    "\n",
    "numberofhours(11,1975,3,1999)\n",
    "    \n",
    "\n",
    "    \n",
    "    \n",
    "    \n",
    "    \n",
    "    \n",
    "    \n",
    "    \n",
    "    \n",
    "    \n",
    "    \n",
    "    \n",
    "    \n"
   ]
  },
  {
   "cell_type": "code",
   "execution_count": 31,
   "metadata": {},
   "outputs": [],
   "source": [
    "#Function to print all numbers"
   ]
  },
  {
   "cell_type": "code",
   "execution_count": null,
   "metadata": {},
   "outputs": [],
   "source": []
  }
 ],
 "metadata": {
  "kernelspec": {
   "display_name": "Python 3",
   "language": "python",
   "name": "python3"
  },
  "language_info": {
   "codemirror_mode": {
    "name": "ipython",
    "version": 3
   },
   "file_extension": ".py",
   "mimetype": "text/x-python",
   "name": "python",
   "nbconvert_exporter": "python",
   "pygments_lexer": "ipython3",
   "version": "3.7.3"
  }
 },
 "nbformat": 4,
 "nbformat_minor": 2
}
