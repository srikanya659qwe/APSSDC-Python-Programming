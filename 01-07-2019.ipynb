{
 "cells": [
  {
   "cell_type": "code",
   "execution_count": 1,
   "metadata": {},
   "outputs": [
    {
     "name": "stdout",
     "output_type": "stream",
     "text": [
      "41126\n",
      "60106\n",
      "48967\n",
      "38828\n",
      "55350\n"
     ]
    }
   ],
   "source": [
    "filepath = 'DataFiles/Income.csv'\n",
    "import pandas as pd\n",
    "def readCSVdata(filepath):\n",
    "    return pd.read_csv(filepath)\n",
    "readCSVdata(filepath)\n",
    "\n",
    "\n",
    "\n",
    "\n",
    "incomedf = readCSVdata(filepath)\n",
    "filepath = 'DataFiles/Income.csv'\n",
    "def AverageIncome2005_to_13(df, filepath):\n",
    "    for i in range(len(df.values)):\n",
    "        sum = 0\n",
    "        count = 0\n",
    "        for j in range(2, len(df.columns)):\n",
    "            sum=sum+df.values[i][j]\n",
    "            count+=1\n",
    "        print(sum//count)\n",
    "AverageIncome2005_to_13(incomedf, filepath)"
   ]
  },
  {
   "cell_type": "code",
   "execution_count": 5,
   "metadata": {},
   "outputs": [
    {
     "name": "stdout",
     "output_type": "stream",
     "text": [
      "{'Alabama': 42478, 'Alaska': 60738, 'Arizona': 48755, 'Arkansas': 40079, 'California': 55971}\n",
      "\n",
      "\n",
      "Alaska : 60738\n"
     ]
    }
   ],
   "source": [
    "filepath = 'DataFiles/Income.csv'\n",
    "import pandas as pd\n",
    "def readCSVdata(filepath):\n",
    "    return pd.read_csv(filepath)\n",
    "readCSVdata(filepath)\n",
    "\n",
    "\n",
    "incomedf = readCSVdata(filepath)\n",
    "filepath = 'DataFiles/Income.csv'\n",
    "def HighestIncomeof_last_3_years(df, filepath):\n",
    "    li = []\n",
    "    u = {}\n",
    "    for i in range(len(df.values)):\n",
    "        sum = 0\n",
    "        count = 0\n",
    "        for j in range(8, len(df.columns)):\n",
    "            sum=sum+df.values[i][j]\n",
    "            count+=1\n",
    "        u[df.values[i][1]]=sum//count\n",
    "    print(u)\n",
    "    print('\\n')\n",
    "    a = max(u.values())\n",
    "    for item in u.items():\n",
    "        if a==item[1]:\n",
    "            print(item[0],':',a)\n",
    "\n",
    "HighestIncomeof_last_3_years(incomedf, filepath)\n",
    "       "
   ]
  },
  {
   "cell_type": "code",
   "execution_count": 6,
   "metadata": {},
   "outputs": [
    {
     "name": "stdout",
     "output_type": "stream",
     "text": [
      "{'Alabama': 41900, 'Alaska': 61608, 'Arizona': 50635, 'Arkansas': 38876, 'California': 55791}\n",
      "\n",
      "\n",
      "Arkansas : 38876\n"
     ]
    }
   ],
   "source": [
    "filepath = 'DataFiles/Income.csv'\n",
    "def LowestAvgIncomeof_2007_10(df, filepath):\n",
    "    li = []\n",
    "    u = {}\n",
    "    for i in range(len(df.values)):\n",
    "        sum = 0\n",
    "        count = 0\n",
    "        for j in range(4, len(df.columns)-3):\n",
    "            sum=sum+df.values[i][j]\n",
    "            count+=1\n",
    "        u[df.values[i][1]]=sum//count\n",
    "    print(u)\n",
    "    print('\\n')\n",
    "    a = min(u.values())\n",
    "    for item in u.items():\n",
    "        if a==item[1]:\n",
    "            print(item[0],':',a)\n",
    "       \n",
    "        \n",
    "LowestAvgIncomeof_2007_10(incomedf, filepath)\n"
   ]
  },
  {
   "cell_type": "code",
   "execution_count": 7,
   "metadata": {},
   "outputs": [
    {
     "name": "stdout",
     "output_type": "stream",
     "text": [
      "{'Alabama': 41126, 'Alaska': 60106, 'Arizona': 48967, 'Arkansas': 38828, 'California': 55350}\n",
      "Alabama : 41126\n",
      "Arizona : 48967\n",
      "Arkansas : 38828\n"
     ]
    }
   ],
   "source": [
    "filepath = 'DataFiles/Income.csv'\n",
    "import pandas as pd\n",
    "def readCSVdata(filepath):\n",
    "    return pd.read_csv(filepath)\n",
    "readCSVdata(filepath)\n",
    "\n",
    "incomedf = readCSVdata(filepath)\n",
    "filepath = 'DataFiles/Income.csv'\n",
    "def AvgIncomeLessthanCalifornia(df, filepath):\n",
    "    u = {}\n",
    "    li=[]\n",
    "    for i in range(len(df.values)):\n",
    "        sum = 0\n",
    "        count = 0\n",
    "        for j in range(2, len(df.columns)):\n",
    "            sum=sum+df.values[i][j]\n",
    "            count+=1\n",
    "        u[df.values[i][1]]=sum//count\n",
    "    print(u)\n",
    "    for item in u.items():\n",
    "        if item[1]<55350:\n",
    "            print(item[0],':',item[1])\n",
    "                        \n",
    "AvgIncomeLessthanCalifornia(incomedf, filepath)"
   ]
  },
  {
   "cell_type": "code",
   "execution_count": 8,
   "metadata": {},
   "outputs": [
    {
     "name": "stdout",
     "output_type": "stream",
     "text": [
      "[61604, 56134, 45739, 39980, 36538]\n"
     ]
    }
   ],
   "source": [
    "filepath = 'DataFiles/Income.csv'\n",
    "incomedf = readCSVdata(filepath)\n",
    "li = []\n",
    "u=[]\n",
    "def des(df):\n",
    "    for i in range(len(df.values)):\n",
    "        a = (df.values[i][6])\n",
    "        if a not in li:\n",
    "            li.append(a)\n",
    "    u=sorted(li,reverse=True)\n",
    "    print(u)\n",
    "    \n",
    "des(incomedf)"
   ]
  },
  {
   "cell_type": "code",
   "execution_count": 9,
   "metadata": {},
   "outputs": [
    {
     "name": "stdout",
     "output_type": "stream",
     "text": [
      "Arkansas : 36538\n"
     ]
    }
   ],
   "source": [
    "filepath = 'DataFiles/Income.csv'\n",
    "import pandas as pd\n",
    "def readCSVdata(filepath):\n",
    "    return pd.read_csv(filepath)\n",
    "\n",
    "readCSVdata(filepath)\n",
    "\n",
    "\n",
    "\n",
    "\n",
    "\n",
    "filepath = 'DataFiles/Income.csv'\n",
    "def Lowest_RecoredeIncome(df, filepath):\n",
    "    li = []\n",
    "    for i in range(len(df.values)):\n",
    "        for j in range(2,len(df.columns)):\n",
    "            u.append(df.values[i][j])\n",
    "    a=min(u)\n",
    "    for i in range(len(df.values)):\n",
    "        for j in range(2,len(df.columns)):\n",
    "            if df.values[i][j]==a:\n",
    "                b=df.values[i][1]\n",
    "    print(b,':',a)\n",
    "            \n",
    "Lowest_RecoredeIncome(incomedf, filepath)\n"
   ]
  },
  {
   "cell_type": "code",
   "execution_count": null,
   "metadata": {},
   "outputs": [],
   "source": []
  }
 ],
 "metadata": {
  "kernelspec": {
   "display_name": "Python 3",
   "language": "python",
   "name": "python3"
  },
  "language_info": {
   "codemirror_mode": {
    "name": "ipython",
    "version": 3
   },
   "file_extension": ".py",
   "mimetype": "text/x-python",
   "name": "python",
   "nbconvert_exporter": "python",
   "pygments_lexer": "ipython3",
   "version": "3.7.3"
  }
 },
 "nbformat": 4,
 "nbformat_minor": 2
}
