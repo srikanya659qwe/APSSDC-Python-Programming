{
 "cells": [
  {
   "cell_type": "code",
   "execution_count": 23,
   "metadata": {},
   "outputs": [
    {
     "name": "stdout",
     "output_type": "stream",
     "text": [
      "1 2\n",
      "1 3\n",
      "1 4\n",
      "2 3\n",
      "2 4\n",
      "3 4\n"
     ]
    }
   ],
   "source": [
    "# Function to print all combinations of all integers in given list\n",
    "#[1,2,3]->(1,2)(1,3)(2,3) ->3C2 ->3!/(3-2)!* 2!  -->6/2=3\n",
    "\n",
    "def combinations(li):\n",
    "    for i in range(len(li)-1):\n",
    "        for j in range(i+1,len(li)):\n",
    "                \n",
    "                print(li[i],li[j])\n",
    "combinations([1,2,3,4])\n",
    "        "
   ]
  },
  {
   "cell_type": "code",
   "execution_count": 22,
   "metadata": {},
   "outputs": [
    {
     "name": "stdout",
     "output_type": "stream",
     "text": [
      "1 2 3\n",
      "1 2 4\n",
      "1 2 5\n",
      "1 3 4\n",
      "1 3 5\n",
      "1 4 5\n",
      "2 3 4\n",
      "2 3 5\n",
      "2 4 5\n",
      "3 4 5\n"
     ]
    }
   ],
   "source": [
    "def combinations(li):\n",
    "    for i in range(len(li)-2):\n",
    "        for j in range(i+1,len(li)-1):\n",
    "            for k in  range(j+1,len(li)):\n",
    "                print(li[i],li[j],li[k])\n",
    "    return\n",
    "combinations([1,2,3,4,5])"
   ]
  },
  {
   "cell_type": "markdown",
   "metadata": {},
   "source": [
    "###### Write a program to k- largest element in given array"
   ]
  },
  {
   "cell_type": "code",
   "execution_count": 33,
   "metadata": {
    "scrolled": false
   },
   "outputs": [
    {
     "data": {
      "text/plain": [
       "[1, 6, 5]"
      ]
     },
     "execution_count": 33,
     "metadata": {},
     "output_type": "execute_result"
    }
   ],
   "source": [
    "def klargestdifference(li):\n",
    "    for i in range(len(li)-1):\n",
    "        for j in range(i+1,len(li)):\n",
    "            d=abs(li[i]-li[j])\n",
    "            if d not in li:\n",
    "                li.append(d)\n",
    "    return li\n",
    "#klargestdifference([1,3])   #o/p:  [1,3,2]\n",
    "#klargestdifference([1,2])  # o/p:   [1,2]\n",
    "#klargestdifference([1,8])   # o/p:   [1,8,7]\n",
    "#klargestdifference([1,5])   # o/p:    [1,5,4]\n",
    "klargestdifference([1,6])   # o/p:     [1,6,5] "
   ]
  },
  {
   "cell_type": "markdown",
   "metadata": {},
   "source": [
    "### Using Cli"
   ]
  },
  {
   "cell_type": "code",
   "execution_count": null,
   "metadata": {},
   "outputs": [],
   "source": [
    "def medium(li,k):\n",
    "    #li3=[[],li]\n",
    "    #c=1\n",
    "    while(True):\n",
    "        \n",
    "        li3=klargestdifference(li)\n",
    "        if li3[0] == li3[1]:\n",
    "            break\n",
    "    \n",
    "    return sorted(li3[0],reverse=True)[k-1]\n",
    "    return -1\n",
    "#return li3[0]\n",
    "# Function to identify of all pairs of  numbers\n",
    "# pairs of numbers and add those differences to the same list\n",
    "# It returns the updted list and original list\n",
    "\n",
    "\n",
    "def klargestdifference(li):\n",
    "    cli=li[:]\n",
    "    newelements=[]\n",
    "    for i in range(len(li)-1):\n",
    "        for j in range(i+1,len(li)):\n",
    "            d=abs(int(li[i])-int(li[j]))\n",
    "            if d not in li and d not in newelements:\n",
    "                newelements.append(d)\n",
    "    li.extend(newelements)\n",
    "    return [cli,li]\n",
    "li=[1,9,8,7,6,2]\n",
    "klargestdifference(li)\n",
    "#medium(li,2)\n",
    "\n",
    "\n",
    "\n",
    "with open('DataFiles/medium-input.txt','r') as f:\n",
    "    t=int(f.readline())\n",
    "    for i in range(t):\n",
    "        f.readline()\n",
    "        li=f.readline().split()\n",
    "        k=int(f.readline())\n",
    "        print(medium(li,k))\n",
    "\n",
    "\n",
    "\n"
   ]
  },
  {
   "cell_type": "code",
   "execution_count": 13,
   "metadata": {},
   "outputs": [
    {
     "data": {
      "text/plain": [
       "[1, 3, 2]"
      ]
     },
     "execution_count": 13,
     "metadata": {},
     "output_type": "execute_result"
    }
   ],
   "source": [
    "# List data \n",
    "a=[1,2,3]\n",
    "b=[1,3,2]\n",
    "a=b.copy()\n",
    "#a           #Data copy though individual \n",
    "a=b[:]\n",
    "a\n",
    "#a=b\n",
    "\n",
    "#b.append(4)\n",
    "#a.append(5)"
   ]
  },
  {
   "cell_type": "code",
   "execution_count": 11,
   "metadata": {},
   "outputs": [
    {
     "data": {
      "text/plain": [
       "[[2, 3, 6, 9, 12, 1, 4, 7, 10, 5, 8, 11],\n",
       " [2, 3, 6, 9, 12, 1, 4, 7, 10, 5, 8, 11]]"
      ]
     },
     "execution_count": 11,
     "metadata": {},
     "output_type": "execute_result"
    }
   ],
   "source": [
    "#[4,8]\n",
    "#[20,40,60]\n",
    "#[4,8,12,16]\n",
    "#[3,6,9,12]\n",
    "\n",
    "# Convert the list in to an Arithmetic Progression\n",
    "\n",
    "def differencepairs(li):\n",
    "    c=li.copy()\n",
    "    newlist=[]\n",
    "    for i in range(len(li)-1):\n",
    "        for j in range(i+1,len(li)):\n",
    "            d=abs(li[i]-li[j])\n",
    "            if d not in li and d not in newlist:\n",
    "                newlist.append(d)\n",
    "    li.extend(newlist)\n",
    "    return [c,li]\n",
    "\n",
    "li=[2,3,6,9,12,1,4,7,10,5,8,11]   # whenever receive 1 we can stop the list bcz remaining elements are also added automatically\n",
    "differencepairs(li)\n"
   ]
  },
  {
   "cell_type": "markdown",
   "metadata": {},
   "source": [
    "### Set-Data Structure in Python\n",
    "- is denoted by '{ }'\n",
    "- it contains a set of values\n",
    "- it contains only unique elements\n",
    "- it removes the repeated elements\n",
    "- it is also immutable\n",
    "- it does not contain an order"
   ]
  },
  {
   "cell_type": "code",
   "execution_count": 35,
   "metadata": {},
   "outputs": [
    {
     "data": {
      "text/plain": [
       "{8, 9}"
      ]
     },
     "execution_count": 35,
     "metadata": {},
     "output_type": "execute_result"
    }
   ],
   "source": [
    "a={1,2,3,4,5,6,6}\n",
    "#a\n",
    "a.add(7)    # Adding a single element in a set\n",
    "a\n",
    "#for i in a:\n",
    "    #print(i,end=\" \")       # Accessing set of elements in a set\n",
    "    \n",
    "    \n",
    "b={7,8,9}\n",
    "li=[11,12,13]         \n",
    "a.update(b,li)   # Adding Multiple elements in a set\n",
    "a.discard(13)   # Removing the last element in a set\n",
    "a\n"
   ]
  },
  {
   "cell_type": "markdown",
   "metadata": {},
   "source": [
    "### Set Operations"
   ]
  },
  {
   "cell_type": "code",
   "execution_count": 53,
   "metadata": {},
   "outputs": [
    {
     "data": {
      "text/plain": [
       "{4, 5, 6, 7, 8, 9, 10}"
      ]
     },
     "execution_count": 53,
     "metadata": {},
     "output_type": "execute_result"
    }
   ],
   "source": [
    "a={10,1,2,3,4,5,6}\n",
    "b={7,8,9,1,2,3}\n",
    "a.union(b) \n",
    "# A U B =B U A\n",
    "a.intersection(b)\n",
    "# A ^ B  =B ^ A\n",
    "c={111,123}\n",
    "#a.disjoint(b)\n",
    "#a.isdisjoint(c)\n",
    "\n",
    "#a-b # All elments of a which are not in\n",
    "#b-a\n",
    "\n",
    "sorted(a)\n",
    "\n",
    "a ^ b   # it represents intersection of either a or b\n"
   ]
  },
  {
   "cell_type": "code",
   "execution_count": 55,
   "metadata": {},
   "outputs": [
    {
     "data": {
      "text/plain": [
       "set()"
      ]
     },
     "execution_count": 55,
     "metadata": {},
     "output_type": "execute_result"
    }
   ],
   "source": [
    "d=set()    # Creates an empty set\n",
    "d"
   ]
  },
  {
   "cell_type": "code",
   "execution_count": 57,
   "metadata": {},
   "outputs": [
    {
     "data": {
      "text/plain": [
       "{1, 2, 3, 4, 5, 6}"
      ]
     },
     "execution_count": 57,
     "metadata": {},
     "output_type": "execute_result"
    }
   ],
   "source": [
    "li=[1,2,3,4,2,1,2,3,4,5,6]\n",
    "u=set(li)\n",
    "u"
   ]
  },
  {
   "cell_type": "markdown",
   "metadata": {},
   "source": [
    "### Functional Programming\n",
    "\n",
    "\n",
    "- Procedural : C\n",
    "\n",
    "- Object Oriented : JAVA,Python\n",
    "\n",
    "- Scripting : PHP,Python,Java Script, Shell, Perl\n",
    "\n",
    "- Functional : Python,Haskell, Scala\n",
    "\n",
    "- Logic : Prolog, Lisp"
   ]
  },
  {
   "cell_type": "markdown",
   "metadata": {},
   "source": [
    "### List Comprehensions\n"
   ]
  },
  {
   "cell_type": "code",
   "execution_count": 61,
   "metadata": {},
   "outputs": [
    {
     "name": "stdout",
     "output_type": "stream",
     "text": [
      "1 2 3 4 5 6 7 8 9 10 "
     ]
    }
   ],
   "source": [
    "# List of  N natural numbers\n",
    "n=10\n",
    "for i in range(1,n+1):\n",
    "    print(i,end=\" \")"
   ]
  },
  {
   "cell_type": "code",
   "execution_count": 64,
   "metadata": {},
   "outputs": [
    {
     "data": {
      "text/plain": [
       "[1, 2, 3, 4, 5, 6, 7, 8, 9, 10]"
      ]
     },
     "execution_count": 64,
     "metadata": {},
     "output_type": "execute_result"
    }
   ],
   "source": [
    "n=10\n",
    "l=[]\n",
    "for i in range(1,n+1):\n",
    "    l.append(i)\n",
    "l"
   ]
  },
  {
   "cell_type": "code",
   "execution_count": 66,
   "metadata": {},
   "outputs": [
    {
     "data": {
      "text/plain": [
       "[1, 2, 3, 4, 5, 6, 7, 8, 9, 10]"
      ]
     },
     "execution_count": 66,
     "metadata": {},
     "output_type": "execute_result"
    }
   ],
   "source": [
    "li=[i for i in range(1,11)]\n",
    "li"
   ]
  },
  {
   "cell_type": "code",
   "execution_count": 72,
   "metadata": {},
   "outputs": [
    {
     "data": {
      "text/plain": [
       "[1, 8, 27, 64, 125, 216, 343, 512, 729, 1000]"
      ]
     },
     "execution_count": 72,
     "metadata": {},
     "output_type": "execute_result"
    }
   ],
   "source": [
    "# Apply List Comprehension to store the cubes od N natural numbers\n",
    "\n",
    "li=[i**3for i in range(1,11)]\n",
    "li"
   ]
  },
  {
   "cell_type": "code",
   "execution_count": 82,
   "metadata": {},
   "outputs": [
    {
     "data": {
      "text/plain": [
       "[1, 2, 6, 24, 120, 720, 5040, 40320, 362880, 3628800]"
      ]
     },
     "execution_count": 82,
     "metadata": {},
     "output_type": "execute_result"
    }
   ],
   "source": [
    "# Function to calculate the factorial \n",
    "\n",
    "def factorial(n):\n",
    "    if n==0 or n==1:\n",
    "        return 1\n",
    "    return n*factorial(n-1)\n",
    "#factorial(5)\n",
    "  \n",
    "# Apply list Comprehension to calculate  factorial of a n numbers\n",
    "\n",
    "n=10\n",
    "factlist=[factorial(i) for i in range(1,n+1)]\n",
    "factlist\n"
   ]
  },
  {
   "cell_type": "code",
   "execution_count": 90,
   "metadata": {},
   "outputs": [
    {
     "data": {
      "text/plain": [
       "[1, 3, 6, 10, 15, 21]"
      ]
     },
     "execution_count": 90,
     "metadata": {},
     "output_type": "execute_result"
    }
   ],
   "source": [
    "##### Store cumulative sum of numbers till n in listcomprehension\n",
    "\n",
    "def cumulsum(n):\n",
    "    sum=0\n",
    "    for i in range(1,n+1):\n",
    "        sum=sum+i\n",
    "    return sum\n",
    "n=6\n",
    "cumulativesum=([cumulsum(i) for i in range(1,n+1)])\n",
    "cumulativesum\n"
   ]
  },
  {
   "cell_type": "code",
   "execution_count": 91,
   "metadata": {},
   "outputs": [
    {
     "data": {
      "text/plain": [
       "[1, 3, 6, 10, 15, 21]"
      ]
     },
     "execution_count": 91,
     "metadata": {},
     "output_type": "execute_result"
    }
   ],
   "source": [
    "n=6\n",
    "cumulativesum=[sum(range(i+1)) for i in range(1,n+1)]\n",
    "cumulativesum"
   ]
  },
  {
   "cell_type": "code",
   "execution_count": 96,
   "metadata": {},
   "outputs": [
    {
     "data": {
      "text/plain": [
       "[1972, 1976, 1980, 1984, 1988, 1992, 1996, 2000, 2004, 2008, 2012, 2016]"
      ]
     },
     "execution_count": 96,
     "metadata": {},
     "output_type": "execute_result"
    }
   ],
   "source": [
    "# List Compresion to store \n",
    "# Only leap year is in a given period\n",
    "\n",
    "st=1970\n",
    "et=2019\n",
    "leapyear=[i for i in range(st,et+1) if i%400==0 or (i%100!=0 and i%4==0)]\n",
    "leapyear"
   ]
  },
  {
   "cell_type": "code",
   "execution_count": 99,
   "metadata": {},
   "outputs": [
    {
     "data": {
      "text/plain": [
       "[10, 12, 14, 16, 18, 20]"
      ]
     },
     "execution_count": 99,
     "metadata": {},
     "output_type": "execute_result"
    }
   ],
   "source": [
    "sn=10\n",
    "en=20\n",
    "evennumber=[i for i in range(sn,en+1) if i%2==0]\n",
    "evennumber"
   ]
  },
  {
   "cell_type": "code",
   "execution_count": 100,
   "metadata": {},
   "outputs": [
    {
     "data": {
      "text/plain": [
       "[11, 13, 15, 17, 19]"
      ]
     },
     "execution_count": 100,
     "metadata": {},
     "output_type": "execute_result"
    }
   ],
   "source": [
    "sn=10\n",
    "en=20\n",
    "oddnnumber=[i for i in range(sn,en+1) if i%2!=0]\n",
    "oddnnumber"
   ]
  },
  {
   "cell_type": "code",
   "execution_count": null,
   "metadata": {},
   "outputs": [],
   "source": []
  }
 ],
 "metadata": {
  "kernelspec": {
   "display_name": "Python 3",
   "language": "python",
   "name": "python3"
  },
  "language_info": {
   "codemirror_mode": {
    "name": "ipython",
    "version": 3
   },
   "file_extension": ".py",
   "mimetype": "text/x-python",
   "name": "python",
   "nbconvert_exporter": "python",
   "pygments_lexer": "ipython3",
   "version": "3.7.3"
  }
 },
 "nbformat": 4,
 "nbformat_minor": 2
}
