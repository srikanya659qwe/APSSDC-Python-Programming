{
 "cells": [
  {
   "cell_type": "markdown",
   "metadata": {},
   "source": [
    "### Recursive sum"
   ]
  },
  {
   "cell_type": "code",
   "execution_count": 1,
   "metadata": {
    "scrolled": true
   },
   "outputs": [
    {
     "name": "stdout",
     "output_type": "stream",
     "text": [
      "3\n",
      "3\n",
      "2 1\n",
      "1 2\n",
      "2 9\n",
      "4\n",
      "1\n",
      "8 1\n",
      "8\n",
      "3\n",
      "2 5\n",
      "1 4 \n",
      "1 5\n",
      "1\n"
     ]
    }
   ],
   "source": [
    "def recursivesum():\n",
    "    ntest=int(input())\n",
    "    t=0\n",
    "    for j in range(ntest):\n",
    "        d=input().split()\n",
    "        a=int(d[0])\n",
    "        b=int(d[1])\n",
    "        t=t+a*b\n",
    "    if t<=9:\n",
    "            return t\n",
    "    else:\n",
    "        while t>9:\n",
    "            check=list(str(t))\n",
    "            check=[int(x) for x in check]\n",
    "            t=sum(check)\n",
    "        return t\n",
    "        \n",
    "n=int(input())\n",
    "for a in range(n):\n",
    "    print(recursivesum())\n",
    "\n",
    "# Write your code here\n"
   ]
  },
  {
   "cell_type": "markdown",
   "metadata": {},
   "source": [
    "### Roy and profile picture"
   ]
  },
  {
   "cell_type": "code",
   "execution_count": 2,
   "metadata": {
    "scrolled": true
   },
   "outputs": [
    {
     "name": "stdout",
     "output_type": "stream",
     "text": [
      "180\n",
      "3\n",
      "640 480\n",
      "CROP IT\n",
      "120 300\n",
      "UPLOAD ANOTHER\n",
      "130 130\n",
      "UPLOAD ANOTHER\n"
     ]
    }
   ],
   "source": [
    "def profilepic(w,h,l):\n",
    "    if w<l or h<l:\n",
    "        print(\"UPLOAD ANOTHER\")\n",
    "    elif w==h:\n",
    "        print(\"ACCEPTED\")\n",
    "    else:\n",
    "        print(\"CROP IT\")\n",
    "l=int(input()) #180\n",
    "n=int(input())\n",
    "for i in range(1,n+1):\n",
    "    s=input().split()\n",
    "    w=int(s[0])\n",
    "    h=int(s[1])\n",
    "    profilepic(w,h,l)\n",
    "            \n",
    "# Write your code here\n"
   ]
  },
  {
   "cell_type": "markdown",
   "metadata": {},
   "source": [
    "### Hello"
   ]
  },
  {
   "cell_type": "code",
   "execution_count": 3,
   "metadata": {},
   "outputs": [
    {
     "name": "stdout",
     "output_type": "stream",
     "text": [
      "Hello Kirti\n"
     ]
    }
   ],
   "source": [
    "print(\"Hello Kirti\")\n"
   ]
  },
  {
   "cell_type": "markdown",
   "metadata": {},
   "source": [
    "### Life,the universe and everything"
   ]
  },
  {
   "cell_type": "code",
   "execution_count": 4,
   "metadata": {},
   "outputs": [
    {
     "name": "stdout",
     "output_type": "stream",
     "text": [
      "1\n",
      "1\n",
      "2\n",
      "2\n",
      "88\n",
      "88\n",
      "42\n"
     ]
    }
   ],
   "source": [
    "while(1):\n",
    "    n=int(input())\n",
    "    if(n==42):\n",
    "        break\n",
    "    else:\n",
    "        print(n)"
   ]
  },
  {
   "cell_type": "markdown",
   "metadata": {},
   "source": [
    "### Find Product"
   ]
  },
  {
   "cell_type": "code",
   "execution_count": 5,
   "metadata": {},
   "outputs": [
    {
     "name": "stdout",
     "output_type": "stream",
     "text": [
      "5\n",
      "1 2 3 4 5\n",
      "120\n"
     ]
    }
   ],
   "source": [
    "def findproduct(n,s):\n",
    "    ans=1\n",
    "    for i in range(n):\n",
    "        ans=(ans*int(s[i]))%(10**9+7)\n",
    "    print(ans)\n",
    "    return\n",
    "        \n",
    "       \n",
    "        \n",
    "n=int(input())\n",
    "s=input().split()\n",
    "    \n",
    "findproduct(n,s)\n",
    "    "
   ]
  },
  {
   "cell_type": "markdown",
   "metadata": {},
   "source": [
    "### Book of potion"
   ]
  },
  {
   "cell_type": "code",
   "execution_count": 6,
   "metadata": {},
   "outputs": [
    {
     "name": "stdout",
     "output_type": "stream",
     "text": [
      "1401601499\n",
      "Legal ISBN\n"
     ]
    }
   ],
   "source": [
    "def BookofPotion(s):\n",
    "    sum=0\n",
    "    i=1\n",
    "    for a in range(1,11):\n",
    "        sum=sum+(s%10)*i\n",
    "        s = s // 10\n",
    "        i=i+1\n",
    "        \n",
    "    if(sum%11==0):\n",
    "        print(\"Legal ISBN\")\n",
    "    else:\n",
    "        print(\"Illegal ISBN\")\n",
    "    return \n",
    "\n",
    "\n",
    "s=int(input())\n",
    "BookofPotion(s)\n"
   ]
  },
  {
   "cell_type": "code",
   "execution_count": 1,
   "metadata": {},
   "outputs": [
    {
     "name": "stdout",
     "output_type": "stream",
     "text": [
      "2\n",
      "9 6\n",
      "10\n",
      "1 1\n",
      "1 1\n",
      "0 1\n",
      "0 0\n",
      "0 1\n",
      "0 0\n",
      "0 1\n",
      "0 1\n",
      "1 1\n",
      "0 0\n",
      "69\n",
      "1 9\n",
      "10\n",
      "0 1\n",
      "0 0\n",
      "0 0\n",
      "0 1\n",
      "1 0\n",
      "0 1\n",
      "0 1\n",
      "0 0\n",
      "0 1\n",
      "0 0\n",
      "14\n"
     ]
    }
   ],
   "source": [
    "def costofBallons(g,p,gc,pc):\n",
    "    sum=0\n",
    "    if(g==1 and p==1):\n",
    "        sum = gc + pc\n",
    "    elif(g == 1):\n",
    "        sum=sum+gc\n",
    "    elif(p == 1):\n",
    "        sum=sum+pc\n",
    "    else:\n",
    "        sum = sum + 0\n",
    "    return sum\n",
    "    \n",
    "b=int(input()) #2\n",
    "\n",
    "for i in (1,b+1):\n",
    "    prob=input().split()\n",
    "    if i == 1:\n",
    "        gc=int(prob[0])  # 9\n",
    "        pc=int(prob[1]) # 6\n",
    "    else:\n",
    "        gc=int(prob[1])  # 9\n",
    "        pc=int(prob[0])# 1\n",
    "    l=int(input())#10\n",
    "    rs = 0\n",
    "    for j in range(1,l+1):\n",
    "        k=input().split()\n",
    "        g=int(k[0])\n",
    "        p=int(k[1])\n",
    "        rs=rs+costofBallons(g,p,gc,pc)    \n",
    "    print(rs)"
   ]
  },
  {
   "cell_type": "code",
   "execution_count": null,
   "metadata": {},
   "outputs": [],
   "source": []
  }
 ],
 "metadata": {
  "kernelspec": {
   "display_name": "Python 3",
   "language": "python",
   "name": "python3"
  },
  "language_info": {
   "codemirror_mode": {
    "name": "ipython",
    "version": 3
   },
   "file_extension": ".py",
   "mimetype": "text/x-python",
   "name": "python",
   "nbconvert_exporter": "python",
   "pygments_lexer": "ipython3",
   "version": "3.7.3"
  }
 },
 "nbformat": 4,
 "nbformat_minor": 2
}
