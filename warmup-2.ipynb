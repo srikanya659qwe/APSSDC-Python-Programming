{
 "cells": [
  {
   "cell_type": "code",
   "execution_count": 1,
   "metadata": {},
   "outputs": [
    {
     "data": {
      "text/plain": [
       "'HiHi'"
      ]
     },
     "execution_count": 1,
     "metadata": {},
     "output_type": "execute_result"
    }
   ],
   "source": [
    "#Given a string and a non-negative int n, return a larger string that is n copies of the original string.\n",
    "\n",
    "\n",
    "#string_times('Hi', 2) → 'HiHi'\n",
    "#string_times('Hi', 3) → 'HiHiHi'\n",
    "#string_times('Hi', 1) → 'Hi'\n",
    "\n",
    "def string_times(str, n):\n",
    "  r=\"\"\n",
    "  for i in range(n):\n",
    "    r=r+str\n",
    "  return r\n",
    "string_times('Hi',2)\n",
    "  "
   ]
  },
  {
   "cell_type": "code",
   "execution_count": 2,
   "metadata": {},
   "outputs": [
    {
     "data": {
      "text/plain": [
       "'ccocodcode'"
      ]
     },
     "execution_count": 2,
     "metadata": {},
     "output_type": "execute_result"
    }
   ],
   "source": [
    "#Given a non-empty string like \"Code\" return a string like \"CCoCodCode\".\n",
    "\n",
    "\n",
    "#string_splosion('Code') → 'CCoCodCode'\n",
    "#string_splosion('abc') → 'aababc'\n",
    "#string_splosion('ab') → 'aab'\n",
    "\n",
    "\n",
    "def string_splosion(str):\n",
    "  r=\"\"\n",
    "  for i in range(len(str)):\n",
    "    r=r+str[:i+1]\n",
    "  return r\n",
    "string_splosion('code')\n",
    "\n"
   ]
  },
  {
   "cell_type": "code",
   "execution_count": 3,
   "metadata": {},
   "outputs": [
    {
     "data": {
      "text/plain": [
       "True"
      ]
     },
     "execution_count": 3,
     "metadata": {},
     "output_type": "execute_result"
    }
   ],
   "source": [
    "#Given an array of ints, return True if one of the first 4 elements in the array is a 9. The array length may be less than 4.\n",
    "\n",
    "\n",
    "#array_front9([1, 2, 9, 3, 4]) → True\n",
    "#array_front9([1, 2, 3, 4, 9]) → False\n",
    "#array_front9([1, 2, 3, 4, 5]) → False\n",
    "\n",
    "\n",
    "def array_front9(nums):\n",
    "  e=len(nums)\n",
    "  if e > 4:\n",
    "    e = 4\n",
    "  for i in range(e):\n",
    "    if nums[i]== 9:\n",
    "      return True\n",
    "      \n",
    "  return False\n",
    "\n",
    "array_front9([1,2,9,3,4])\n",
    "    \n"
   ]
  },
  {
   "cell_type": "code",
   "execution_count": 5,
   "metadata": {},
   "outputs": [
    {
     "data": {
      "text/plain": [
       "'AbcAbcAbc'"
      ]
     },
     "execution_count": 5,
     "metadata": {},
     "output_type": "execute_result"
    }
   ],
   "source": [
    "#Given a string and a non-negative int n, we'll say that the front of the string is the first 3 chars, or whatever is there if the string is less than length 3. Return n copies of the front;\n",
    "\n",
    "\n",
    "#front_times('Chocolate', 2) → 'ChoCho'\n",
    "#front_times('Chocolate', 3) → 'ChoChoCho'\n",
    "#front_times('Abc', 3) → 'AbcAbcAbc'\n",
    "\n",
    "def front_times(str, n):\n",
    "  fl=3\n",
    "  if fl > len(str):\n",
    "    fl=len(str)\n",
    "  f=str[:fl]\n",
    "  r=\"\"\n",
    "  for i in range(n):\n",
    "    r=r+f\n",
    "  return r\n",
    "front_times('Abc',3)\n"
   ]
  },
  {
   "cell_type": "code",
   "execution_count": 6,
   "metadata": {},
   "outputs": [
    {
     "data": {
      "text/plain": [
       "1"
      ]
     },
     "execution_count": 6,
     "metadata": {},
     "output_type": "execute_result"
    }
   ],
   "source": [
    "\n",
    "#Given an array of ints, return the number of 9's in the array.\n",
    "\n",
    "\n",
    "#array_count9([1, 2, 9]) → 1\n",
    "#array_count9([1, 9, 9]) → 2\n",
    "#array_count9([1, 9, 9, 3, 9]) → 3\n",
    "\n",
    "def array_count9(nums):\n",
    "  c=0\n",
    "  for i in nums:\n",
    "    if(i==9):\n",
    "      c=c+1\n",
    "  return c\n",
    "array_count9([1,2,9])\n"
   ]
  },
  {
   "cell_type": "code",
   "execution_count": null,
   "metadata": {},
   "outputs": [],
   "source": []
  }
 ],
 "metadata": {
  "kernelspec": {
   "display_name": "Python 3",
   "language": "python",
   "name": "python3"
  },
  "language_info": {
   "codemirror_mode": {
    "name": "ipython",
    "version": 3
   },
   "file_extension": ".py",
   "mimetype": "text/x-python",
   "name": "python",
   "nbconvert_exporter": "python",
   "pygments_lexer": "ipython3",
   "version": "3.7.3"
  }
 },
 "nbformat": 4,
 "nbformat_minor": 2
}
