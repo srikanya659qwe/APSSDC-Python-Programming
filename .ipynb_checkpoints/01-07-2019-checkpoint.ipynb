{
 "cells": [
  {
   "cell_type": "code",
   "execution_count": 1,
   "metadata": {},
   "outputs": [
    {
     "name": "stdout",
     "output_type": "stream",
     "text": [
      "41126\n",
      "60106\n",
      "48967\n",
      "38828\n",
      "55350\n"
     ]
    }
   ],
   "source": [
    "filepath = 'DataFiles/Income.csv'\n",
    "import pandas as pd\n",
    "def readCSVdata(filepath):\n",
    "    return pd.read_csv(filepath)\n",
    "readCSVdata(filepath)\n",
    "\n",
    "\n",
    "\n",
    "\n",
    "incomedf = readCSVdata(filepath)\n",
    "filepath = 'DataFiles/Income.csv'\n",
    "def AverageIncome2005_to_13(df, filepath):\n",
    "    for i in range(len(df.values)):\n",
    "        sum = 0\n",
    "        count = 0\n",
    "        for j in range(2, len(df.columns)):\n",
    "            sum=sum+df.values[i][j]\n",
    "            count+=1\n",
    "        print(sum//count)\n",
    "AverageIncome2005_to_13(incomedf, filepath)"
   ]
  },
  {
   "cell_type": "code",
   "execution_count": 5,
   "metadata": {},
   "outputs": [],
   "source": [
    "filepath = 'DataFiles/Income.csv'\n",
    "def HighestIncomeof_last_3_years(df, filepath):\n",
    "    li = []\n",
    "    u = {}\n",
    "    for i in range(len(df.values)):\n",
    "        sum = 0\n",
    "        count = 0\n",
    "        for j in range(8, len(df.columns)):\n",
    "            sum=sum+df.values[i][j]\n",
    "            count+=1\n",
    "        u[df.values[i][1]]=sum//count\n",
    "    print(u)\n",
    "    print('\\n')\n",
    "    a = max(u.values())\n",
    "    for item in u.items():\n",
    "        if a==item[1]:\n",
    "            print(item[0],':',a)\n",
    "       "
   ]
  },
  {
   "cell_type": "code",
   "execution_count": null,
   "metadata": {},
   "outputs": [],
   "source": []
  }
 ],
 "metadata": {
  "kernelspec": {
   "display_name": "Python 3",
   "language": "python",
   "name": "python3"
  },
  "language_info": {
   "codemirror_mode": {
    "name": "ipython",
    "version": 3
   },
   "file_extension": ".py",
   "mimetype": "text/x-python",
   "name": "python",
   "nbconvert_exporter": "python",
   "pygments_lexer": "ipython3",
   "version": "3.7.3"
  }
 },
 "nbformat": 4,
 "nbformat_minor": 2
}
