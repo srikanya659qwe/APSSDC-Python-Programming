{
 "cells": [
  {
   "cell_type": "code",
   "execution_count": 23,
   "metadata": {},
   "outputs": [
    {
     "name": "stdout",
     "output_type": "stream",
     "text": [
      "1 2\n",
      "1 3\n",
      "1 4\n",
      "2 3\n",
      "2 4\n",
      "3 4\n"
     ]
    }
   ],
   "source": [
    "# Function to print all combinations of all integers in given list\n",
    "#[1,2,3]->(1,2)(1,3)(2,3) ->3C2 ->3!/(3-2)!* 2!  -->6/2=3\n",
    "\n",
    "def combinations(li):\n",
    "    for i in range(len(li)-1):\n",
    "        for j in range(i+1,len(li)):\n",
    "                \n",
    "                print(li[i],li[j])\n",
    "combinations([1,2,3,4])\n",
    "        "
   ]
  },
  {
   "cell_type": "code",
   "execution_count": 22,
   "metadata": {},
   "outputs": [
    {
     "name": "stdout",
     "output_type": "stream",
     "text": [
      "1 2 3\n",
      "1 2 4\n",
      "1 2 5\n",
      "1 3 4\n",
      "1 3 5\n",
      "1 4 5\n",
      "2 3 4\n",
      "2 3 5\n",
      "2 4 5\n",
      "3 4 5\n"
     ]
    }
   ],
   "source": [
    "def combinations(li):\n",
    "    for i in range(len(li)-2):\n",
    "        for j in range(i+1,len(li)-1):\n",
    "            for k in  range(j+1,len(li)):\n",
    "                print(li[i],li[j],li[k])\n",
    "    return\n",
    "combinations([1,2,3,4,5])"
   ]
  },
  {
   "cell_type": "markdown",
   "metadata": {},
   "source": [
    "###### Write a program to k- largest element in given array"
   ]
  },
  {
   "cell_type": "code",
   "execution_count": 33,
   "metadata": {
    "scrolled": false
   },
   "outputs": [
    {
     "data": {
      "text/plain": [
       "[1, 6, 5]"
      ]
     },
     "execution_count": 33,
     "metadata": {},
     "output_type": "execute_result"
    }
   ],
   "source": [
    "def klargestdifference(li):\n",
    "    for i in range(len(li)-1):\n",
    "        for j in range(i+1,len(li)):\n",
    "            d=abs(li[i]-li[j])\n",
    "            if d not in li:\n",
    "                li.append(d)\n",
    "    return li\n",
    "#klargestdifference([1,3])   #o/p:  [1,3,2]\n",
    "#klargestdifference([1,2])  # o/p:   [1,2]\n",
    "#klargestdifference([1,8])   # o/p:   [1,8,7]\n",
    "#klargestdifference([1,5])   # o/p:    [1,5,4]\n",
    "klargestdifference([1,6])   # o/p:     [1,6,5] "
   ]
  },
  {
   "cell_type": "markdown",
   "metadata": {},
   "source": [
    "### Using Cli"
   ]
  },
  {
   "cell_type": "code",
   "execution_count": null,
   "metadata": {},
   "outputs": [],
   "source": [
    "def medium(li,k):\n",
    "    #li3=[[],li]\n",
    "    c=1\n",
    "    while(True):\n",
    "        \n",
    "        li3=klargestdifference(li)\n",
    "        if li3[0] == li3[1]:\n",
    "            break\n",
    "    \n",
    "    return sorted(li3[0],reverse=True)[k-1]\n",
    "    return -1\n",
    "#return li3[0]\n",
    "# Function to identify of all pairs of  numbers\n",
    "# pairs of numbers and add those differences to the same list\n",
    "# It returns the updted list and original list\n",
    "\n",
    "\n",
    "def klargestdifference(li):\n",
    "    cli=li[:]\n",
    "    newelements=[]\n",
    "    for i in range(len(li)-1):\n",
    "        for j in range(i+1,len(li)):\n",
    "            d=abs(int(li[i])-int(li[j]))\n",
    "            if d not in li and d not in newelements:\n",
    "                newelements.append(d)\n",
    "    li.extend(newelements)\n",
    "    return [cli,li]\n",
    "li=[1,9,8,7,6,2]\n",
    "klargestdifference(li)\n",
    "#medium(li,2)\n",
    "\n",
    "\n",
    "\n",
    "with open('DataFiles/medium-input.txt','r') as f:\n",
    "    t=int(f.readline())\n",
    "    for i in range(t):\n",
    "        f.readline()\n",
    "        li=f.readline().split()\n",
    "        k=int(f.readline())\n",
    "        print(medium(li,k))\n",
    "\n",
    "\n",
    "\n"
   ]
  },
  {
   "cell_type": "code",
   "execution_count": null,
   "metadata": {},
   "outputs": [],
   "source": [
    "# List data \n",
    "a=[1,2,3]\n",
    "b=[1,3,2]\n",
    "a=b.copy()   # Data copy though individual \n",
    "a=b[:]\n",
    "a=b\n",
    "\n",
    "b.append(4)\n",
    "a.append(5)"
   ]
  },
  {
   "cell_type": "code",
   "execution_count": null,
   "metadata": {},
   "outputs": [],
   "source": [
    "[4,8]\n",
    "[20,40,60]\n",
    "[4,8,12,16]\n",
    "[3,6,9,12]\n",
    "\n",
    "# Convert the list in to an Arithmetic Progression\n",
    "\n",
    "def differencepairs(li):\n",
    "    c=li.copy()\n",
    "    newlist=[]\n",
    "    for i in range(len(li)-1):\n",
    "        for j in range(i+1,len(li)):\n",
    "            d=abs(li[i]-li[j])\n",
    "            if d not in li and d not in newlist:\n",
    "                newlist.append(d)\n",
    "    return\n",
    "differencepairs([3,2,1])\n"
   ]
  },
  {
   "cell_type": "code",
   "execution_count": null,
   "metadata": {},
   "outputs": [],
   "source": []
  }
 ],
 "metadata": {
  "kernelspec": {
   "display_name": "Python 3",
   "language": "python",
   "name": "python3"
  },
  "language_info": {
   "codemirror_mode": {
    "name": "ipython",
    "version": 3
   },
   "file_extension": ".py",
   "mimetype": "text/x-python",
   "name": "python",
   "nbconvert_exporter": "python",
   "pygments_lexer": "ipython3",
   "version": "3.7.3"
  }
 },
 "nbformat": 4,
 "nbformat_minor": 2
}
