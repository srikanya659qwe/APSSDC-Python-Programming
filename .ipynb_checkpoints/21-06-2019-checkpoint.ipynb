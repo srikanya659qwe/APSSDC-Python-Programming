{
 "cells": [
  {
   "cell_type": "code",
   "execution_count": 1,
   "metadata": {},
   "outputs": [
    {
     "name": "stdout",
     "output_type": "stream",
     "text": [
      "2\n",
      "9 6\n",
      "10\n",
      "1 1\n",
      "1 1\n",
      "0 1\n",
      "0 0\n",
      "0 1\n",
      "0 0\n",
      "0 1\n",
      "0 1\n",
      "1 1\n",
      "0 0\n",
      "69\n",
      "1 9\n",
      "10\n",
      " 0 1\n",
      "0 0\n",
      "0 0\n",
      "0 1\n",
      "1 0\n",
      "0 1\n",
      "0 1\n",
      "0 1\n",
      "0 0\n",
      "0 0\n",
      "14\n"
     ]
    }
   ],
   "source": [
    "t=int(input())\n",
    "for s in range(0,t):\n",
    "    g,p=map(int,input().split())\n",
    "    n=int(input())\n",
    "    x1=[]\n",
    "    x2=[]\n",
    "    for t in range(0,n):\n",
    "        i,j=map(int,input().split())\n",
    "        x1.append(i)\n",
    "        x2.append(j)\n",
    "    if g>p:\n",
    "        if sum(x1)>sum(x2):\n",
    "            print(g*sum(x2)+p*sum(x1))\n",
    "        else:\n",
    "            print(g*sum(x1)+p*sum(x2))\n",
    "    else:\n",
    "        \n",
    "        if sum(x1)>sum(x2):\n",
    "            print(p*sum(x2)+g*sum(x1))\n",
    "        else:\n",
    "            print(p*sum(x1)+g*sum(x2))\n",
    "        "
   ]
  },
  {
   "cell_type": "code",
   "execution_count": 34,
   "metadata": {},
   "outputs": [
    {
     "name": "stdout",
     "output_type": "stream",
     "text": [
      "Invalid phone number or email\n"
     ]
    }
   ],
   "source": [
    "#Function to add contact to contacts text file\n",
    "\n",
    "\n",
    "from Packages import validator\n",
    "\n",
    "def addcontact(name,phone,email):\n",
    "    # store data as name,phone,email in the contacts file \n",
    "    filename='DataFiles/contacts.txt'\n",
    "    if not checkcontacts(name):\n",
    "        if phonenumber(phone) and verifiedmail(email):\n",
    "            \n",
    "            with open(filename,'a') as f:\n",
    "                \n",
    "            \n",
    "                line=name +','+ str(phone) +','+ email +'\\n'\n",
    "                f.write(line)\n",
    "            print(name,'added to contacts')\n",
    "    else:\n",
    "        print('Invalid phone number or email')\n",
    "    return\n",
    "#addcontact('name1','8790700295','name1@gmail.com')\n",
    "\n",
    "\n",
    "\n",
    "#Function to check if contact already exists\n",
    "import re\n",
    "def checkcontacts(name):\n",
    "    filename='DataFiles/contacts.txt'\n",
    "    with open(filename,'r') as f:\n",
    "        filedata=f.read()\n",
    "        pattern=name+','\n",
    "    return re.search(name,filedata)\n",
    "#if checkcontacts(\"name1,\"):\n",
    "    #print(False)\n",
    "addcontact('name1',12345322,'adf')"
   ]
  },
  {
   "cell_type": "code",
   "execution_count": null,
   "metadata": {},
   "outputs": [],
   "source": [
    "filename='DataFiles/contacts.txt'\n",
    "def csvlist(filename):\n",
    "    li=[]\n",
    "    with open(filename,'r') as f:\n",
    "        for line in f:\n",
    "            li.append(line.split(','))\n",
    "    return li \n",
    "#csvlist(filename)\n",
    "def listtofile(li):\n",
    "    s = ''\n",
    "    for i in li:\n",
    "        s +=s.join(i)\n",
    "    return s\n",
    "li=csvlist(filename)\n",
    "listtofile(li)\n"
   ]
  },
  {
   "cell_type": "code",
   "execution_count": null,
   "metadata": {},
   "outputs": [],
   "source": []
  }
 ],
 "metadata": {
  "kernelspec": {
   "display_name": "Python 3",
   "language": "python",
   "name": "python3"
  },
  "language_info": {
   "codemirror_mode": {
    "name": "ipython",
    "version": 3
   },
   "file_extension": ".py",
   "mimetype": "text/x-python",
   "name": "python",
   "nbconvert_exporter": "python",
   "pygments_lexer": "ipython3",
   "version": "3.7.3"
  }
 },
 "nbformat": 4,
 "nbformat_minor": 2
}
