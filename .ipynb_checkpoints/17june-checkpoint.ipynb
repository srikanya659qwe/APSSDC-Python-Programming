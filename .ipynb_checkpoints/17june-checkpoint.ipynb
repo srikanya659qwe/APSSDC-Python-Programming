{
 "cells": [
  {
   "cell_type": "code",
   "execution_count": 6,
   "metadata": {},
   "outputs": [
    {
     "data": {
      "text/plain": [
       "6"
      ]
     },
     "execution_count": 6,
     "metadata": {},
     "output_type": "execute_result"
    }
   ],
   "source": [
    "### char sum\n",
    "\n",
    "def charsum(s):\n",
    "    sum=0\n",
    "    for i in s:\n",
    "        sum=sum+(ord(i)-96)\n",
    "    return sum\n",
    "\n",
    "charsum('abab')"
   ]
  },
  {
   "cell_type": "code",
   "execution_count": 26,
   "metadata": {},
   "outputs": [
    {
     "data": {
      "text/plain": [
       "['abc']"
      ]
     },
     "execution_count": 26,
     "metadata": {},
     "output_type": "execute_result"
    }
   ],
   "source": [
    "s=\"abc\"\n",
    "#s.islower()\n",
    "s.isupper()\n",
    "\n",
    "#s.lower()\n",
    "#s.upper()\n",
    "s.split()\n",
    "#list(s)\n"
   ]
  },
  {
   "cell_type": "markdown",
   "metadata": {},
   "source": [
    "### Problem:Duration\n",
    "\n",
    "- input: strat time,end time(hh mm)\n",
    "        hh-{00,01,02,03...23}\n",
    "        mm-{00,01,.........59}\n",
    "        hh mm-{00 00,23 59}\n",
    "- Output:time difference in hh mm"
   ]
  },
  {
   "cell_type": "code",
   "execution_count": 21,
   "metadata": {},
   "outputs": [
    {
     "name": "stdout",
     "output_type": "stream",
     "text": [
      "5 41\n"
     ]
    }
   ],
   "source": [
    "# Calculate the time difference as total number  minutes\n",
    "#convert the total minutes in to HH MM\n",
    "\n",
    "s =\"2 42 8 23\"\n",
    "def minutediff(s):\n",
    "    s=s.split()\n",
    "    sh=int(s[0])\n",
    "    sm=int(s[1])\n",
    "    eh=int(s[2])\n",
    "    em=int(s[3])\n",
    "    startminutes=(sh * 60) + sm\n",
    "    endminutes=(eh * 60) + em\n",
    "    return endminutes - startminutes\n",
    "def outputtime(minutes):\n",
    "    #converts minutes to hh mm\n",
    "    hh=minutes // 60\n",
    "    mm=minutes % 60\n",
    "    print(hh,mm)\n",
    "    return \n",
    "minutes=minutediff(s)\n",
    "outputtime(minutes)"
   ]
  },
  {
   "cell_type": "markdown",
   "metadata": {},
   "source": [
    "### play with numbers\n"
   ]
  },
  {
   "cell_type": "code",
   "execution_count": null,
   "metadata": {},
   "outputs": [],
   "source": [
    "line 1:array size(n),no of queries(q)                                   \n",
    "line 2:array elements                                               \n",
    "q lines:query - sub array of the original array                                                                            1 3 \n",
    "                                                                            \n",
    "                 \n",
    "\n",
    "    \n",
    "    "
   ]
  },
  {
   "cell_type": "code",
   "execution_count": 1,
   "metadata": {},
   "outputs": [
    {
     "name": "stdout",
     "output_type": "stream",
     "text": [
      "Sir#12\n",
      "3\n",
      "2\n"
     ]
    }
   ],
   "source": [
    "def countofdigits(s):\n",
    "    charcount=0\n",
    "    digitcount=0\n",
    "    for i in s:\n",
    "        if((i>='a'and i<='z')or (i>='A'and i<='Z')):\n",
    "            charcount=charcount+1\n",
    "        elif(i>='0' and i<='9'):\n",
    "            \n",
    "            digitcount=digitcount+1\n",
    "    print(charcount)\n",
    "    print(digitcount)\n",
    "\n",
    "s=input()\n",
    "countofdigits(s)"
   ]
  },
  {
   "cell_type": "code",
   "execution_count": 2,
   "metadata": {},
   "outputs": [
    {
     "name": "stdout",
     "output_type": "stream",
     "text": [
      "aswe%123\n",
      "4\n",
      "3\n"
     ]
    }
   ],
   "source": [
    "def countofdigits(s):\n",
    "    charcount=0\n",
    "    digitcount=0\n",
    "    for i in range(0,len(s)):\n",
    "        if((s[i]>='a'and s[i]<='z')or (s[i]>='A'and s[i]<='Z')):\n",
    "            charcount=charcount+1\n",
    "        elif(s[i]>='0' and s[i]<='9'):\n",
    "            \n",
    "            digitcount=digitcount+1\n",
    "    print(charcount)\n",
    "    print(digitcount)\n",
    "\n",
    "s=input()\n",
    "countofdigits(s)"
   ]
  },
  {
   "cell_type": "code",
   "execution_count": 4,
   "metadata": {},
   "outputs": [
    {
     "name": "stdout",
     "output_type": "stream",
     "text": [
      "qwer$1234\n",
      "4\n",
      "4\n"
     ]
    }
   ],
   "source": [
    "def countofdigits(s):\n",
    "    charcount=0\n",
    "    digitcount=0\n",
    "    for i in range(0,len(s)):\n",
    "        if((ord(s[i])>=97 and ord(s[i])<=122)or (ord(s[i])>=65 and ord(s[i])<=90)):\n",
    "            charcount=charcount+1\n",
    "        elif(ord(s[i])>=48 and ord(s[i])<=57):\n",
    "            \n",
    "            digitcount=digitcount+1\n",
    "    print(charcount)\n",
    "    print(digitcount)\n",
    "\n",
    "s=input()\n",
    "countofdigits(s)"
   ]
  },
  {
   "cell_type": "code",
   "execution_count": 5,
   "metadata": {},
   "outputs": [
    {
     "name": "stdout",
     "output_type": "stream",
     "text": [
      "qweer#1234\n",
      "5\n",
      "4\n"
     ]
    }
   ],
   "source": [
    "def countofdigits(s):\n",
    "    charcount=0\n",
    "    digitcount=0\n",
    "    for i in range(0,len(s)):\n",
    "        if(s[i].islower() or s[i].isupper()):\n",
    "            charcount=charcount+1\n",
    "        elif(ord(s[i])>=48 and ord(s[i])<=57):\n",
    "            \n",
    "            digitcount=digitcount+1\n",
    "    print(charcount)\n",
    "    print(digitcount)\n",
    "\n",
    "s=input()\n",
    "countofdigits(s)"
   ]
  },
  {
   "cell_type": "code",
   "execution_count": 1,
   "metadata": {},
   "outputs": [
    {
     "name": "stdout",
     "output_type": "stream",
     "text": [
      "2\n",
      "6\n",
      "YES\n",
      "28\n",
      "YES\n"
     ]
    }
   ],
   "source": [
    "def perfect(n):\n",
    "    sum=0\n",
    "    for i in range(1,n):\n",
    "        if(n%i==0):\n",
    "            sum=sum+i\n",
    "    if(n==sum):\n",
    "        return \"YES\"\n",
    "    else:\n",
    "        return \"NO\"\n",
    "       \n",
    "test=int(input())\n",
    "for i in range(test):\n",
    "    n=int(input())\n",
    "    print(perfect(n))"
   ]
  },
  {
   "cell_type": "code",
   "execution_count": 2,
   "metadata": {},
   "outputs": [
    {
     "name": "stdout",
     "output_type": "stream",
     "text": [
      "2\n",
      "5\n",
      "3\n",
      "4\n",
      "3\n"
     ]
    }
   ],
   "source": [
    "##Divisibility\n",
    "\n",
    "def divisibility(n):\n",
    "    r=0\n",
    "    for i in range(1,n):\n",
    "        rem=n%i      #5%1=0,  5%2=1,5%3=2,5%4=1\n",
    "        if rem>r:    #i>0   2>1   1!>2\n",
    "            r=rem    #r=1   r=2\n",
    "            j=i      #j=2   j=3\n",
    "    return j\n",
    "n1=int(input())\n",
    "for i in range(n1):\n",
    "    n2=int(input())\n",
    "    print(divisibility(n2))\n",
    "    \n",
    "        \n",
    "            \n",
    "            "
   ]
  },
  {
   "cell_type": "code",
   "execution_count": 10,
   "metadata": {},
   "outputs": [
    {
     "name": "stdout",
     "output_type": "stream",
     "text": [
      "prime\n"
     ]
    }
   ],
   "source": [
    "## Prime numbers\n",
    "\n",
    "def primenumbers(n):\n",
    "    count=0\n",
    "    for i in range(1,n+1):\n",
    "        if(n%i==0):\n",
    "            count=count+1\n",
    "            \n",
    "    if(count==2):\n",
    "        print(\"prime\")\n",
    "    else:\n",
    "        print(\"not\")\n",
    "        \n",
    "primenumbers(5)"
   ]
  },
  {
   "cell_type": "code",
   "execution_count": 16,
   "metadata": {},
   "outputs": [],
   "source": [
    "def primenumbers(n):\n",
    "    count=0\n",
    "    for i in range(1,n+1):\n",
    "        for j in range(1,i+1):\n",
    "            \n",
    "            if(n%i==0):\n",
    "                count=count+1\n",
    "            \n",
    "    if(count==2):\n",
    "        print(n)\n",
    "      \n",
    "        \n",
    "primenumbers(7)"
   ]
  },
  {
   "cell_type": "code",
   "execution_count": null,
   "metadata": {},
   "outputs": [],
   "source": []
  }
 ],
 "metadata": {
  "kernelspec": {
   "display_name": "Python 3",
   "language": "python",
   "name": "python3"
  },
  "language_info": {
   "codemirror_mode": {
    "name": "ipython",
    "version": 3
   },
   "file_extension": ".py",
   "mimetype": "text/x-python",
   "name": "python",
   "nbconvert_exporter": "python",
   "pygments_lexer": "ipython3",
   "version": "3.7.3"
  }
 },
 "nbformat": 4,
 "nbformat_minor": 2
}
