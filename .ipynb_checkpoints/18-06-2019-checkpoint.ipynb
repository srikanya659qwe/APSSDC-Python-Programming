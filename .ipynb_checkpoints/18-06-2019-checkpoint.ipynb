{
 "cells": [
  {
   "cell_type": "markdown",
   "metadata": {},
   "source": [
    "### Play with numbers\n",
    "\n",
    "\n",
    "\n",
    "\n",
    "\n",
    "\n",
    "\n",
    "\n",
    "\n",
    "\n",
    "\n",
    "\n",
    "\n",
    "\n",
    "\n",
    "\n",
    "\n",
    "\n",
    "\n"
   ]
  },
  {
   "cell_type": "code",
   "execution_count": 11,
   "metadata": {},
   "outputs": [
    {
     "name": "stdout",
     "output_type": "stream",
     "text": [
      "5 2\n",
      "1 2 3 4 5\n",
      "1 3\n",
      "2\n",
      "2 4\n",
      "3\n"
     ]
    }
   ],
   "source": [
    "n=input().split()\n",
    "N=int(n[0])\n",
    "Q=int(n[1])\n",
    "#Read array elements\n",
    "a=input().split()\n",
    "sum=[]   #Initialize cumulative sum array\n",
    "# Cumulative sum\n",
    "for i in range(0,N):\n",
    "    if i==0:\n",
    "        sum.append(int(a[0]))\n",
    "    else:\n",
    "        sum.append(int(sum[i-1]+int(a[i])))\n",
    "        \n",
    "del a\n",
    "\n",
    "#Read each query and calculate the average\n",
    "for k in range(0,Q):\n",
    "    inq=input().split()\n",
    "    i=int(inq[0])\n",
    "    j=int(inq[1])\n",
    "    if i>1:\n",
    "        print((sum[j-1]-sum[i-2])//(j-i+1))\n",
    "    else:\n",
    "        print(sum[j-1]//(j-i+1))"
   ]
  },
  {
   "cell_type": "code",
   "execution_count": 12,
   "metadata": {},
   "outputs": [
    {
     "name": "stdout",
     "output_type": "stream",
     "text": [
      "5 2\n",
      "1 2 3 4 5\n",
      "1 3 \n",
      "2\n",
      "2 4\n",
      "3\n"
     ]
    }
   ],
   "source": [
    "### Play with numbers another way\n",
    "n,q=map(int,input().split())\n",
    "l=list(map(int,input().split()))\n",
    "z=[]\n",
    "e=0\n",
    "for i in range(0,n):\n",
    "    e+=l[i]\n",
    "    z.append(e)\n",
    "for i in range(0,q):\n",
    "    s,e=map(int,input().split())\n",
    "    if(s==1):\n",
    "        print((z[e-1])//(e-s+1))\n",
    "    else:\n",
    "        print((z[e-1]-z[s-2])//(e-s+1))\n",
    "\n"
   ]
  },
  {
   "cell_type": "markdown",
   "metadata": {},
   "source": [
    "## Special Number\n"
   ]
  },
  {
   "cell_type": "code",
   "execution_count": 3,
   "metadata": {},
   "outputs": [
    {
     "name": "stdout",
     "output_type": "stream",
     "text": [
      "2\n",
      "3\n",
      "6\n",
      "YES\n",
      "3\n",
      "N0\n",
      "1\n",
      "N0\n"
     ]
    }
   ],
   "source": [
    "###Special number\n",
    "def isspecial(n,p):\n",
    "    if numberprimefactors(n) >=p:\n",
    "        return True\n",
    "    return False\n",
    "\n",
    "\n",
    "#Functio to check if no is prime\n",
    "def ischeck(n):\n",
    "    flag=1\n",
    "    if n == 2:\n",
    "        return True\n",
    "    for i in range(2,n//2 + 1):\n",
    "        if n % i== 0:\n",
    "            flag= 0\n",
    "            return False\n",
    "    if flag == 1:\n",
    "        return True\n",
    "#ischeck(5)\n",
    "        \n",
    "        \n",
    "#Function to determine number of prime factors for a given number\n",
    "\n",
    "def numberprimefactors(n):\n",
    "    if ischeck(n):\n",
    "        return 1\n",
    "    count=0\n",
    "    for i in range(2,n // 2+1):\n",
    "        if ischeck(i) and n % i==0:\n",
    "            count=count+1\n",
    "    return count\n",
    "\n",
    "#numberprimefactors(40)\n",
    "isspecial(6,2)\n",
    "\n",
    "def solution2():\n",
    "    p=int(input())\n",
    "    t=int(input())\n",
    "    for i in range(0,t):\n",
    "        n=int(input())\n",
    "        if isspecial(n,p):\n",
    "            print(\"YES\")\n",
    "        else:\n",
    "            print(\"N0\")\n",
    "solution2()\n"
   ]
  },
  {
   "cell_type": "markdown",
   "metadata": {},
   "source": [
    "### Highest reminder\n",
    "write a program to find a natural number that is smaller than N that gives the highest reminder when divided by that number \n",
    "if there is more than such number ,print the smallest one\n",
    "x < N and n % x == highest\n",
    "\n",
    "10          9\n",
    "9  1        8  1\n",
    "8  2        7  2\n",
    "7  3        6  3\n",
    "6  4        5  4\n",
    "5  0        4  1\n",
    "4  2        3  0\n",
    "3  1        2  1\n",
    "2  0        1  0\n",
    "1  0"
   ]
  },
  {
   "cell_type": "code",
   "execution_count": 2,
   "metadata": {},
   "outputs": [
    {
     "name": "stdout",
     "output_type": "stream",
     "text": [
      "16\n"
     ]
    }
   ],
   "source": [
    "def highestrem(n):\n",
    "    hr=0\n",
    "    v=n\n",
    "    for i in range(n-1,n // 2,-1):\n",
    "        r= n% i\n",
    "        if r>hr:\n",
    "            \n",
    "            hr = r\n",
    "            v = i\n",
    "    print(v)\n",
    "    return\n",
    "\n",
    "highestrem(30)\n",
    "        \n",
    "    "
   ]
  },
  {
   "cell_type": "markdown",
   "metadata": {},
   "source": [
    "### Tuples\n",
    "\n",
    "differece between tuples and lists\n",
    "\n",
    "lists are mutable-can  be changed/modified\n",
    "\n",
    "- used to access,modify,add,delete data \n",
    "\n",
    "tuples are immutable- cannot be changed once initialised\n",
    "\n",
    "- used to acess the data only\n",
    "- All Slicing Operations will be work"
   ]
  },
  {
   "cell_type": "code",
   "execution_count": 8,
   "metadata": {},
   "outputs": [
    {
     "data": {
      "text/plain": [
       "(8, 6, 0)"
      ]
     },
     "execution_count": 8,
     "metadata": {},
     "output_type": "execute_result"
    }
   ],
   "source": [
    "t1=(1,2,8,6,0)\n",
    "t1[3]          #Acessing the fourth element of the tuple\n",
    "t1[len(t1)//2:]      #Accessing all elements from middle to last"
   ]
  },
  {
   "cell_type": "code",
   "execution_count": 9,
   "metadata": {},
   "outputs": [
    {
     "data": {
      "text/plain": [
       "tuple"
      ]
     },
     "execution_count": 9,
     "metadata": {},
     "output_type": "execute_result"
    }
   ],
   "source": [
    "type(t1)"
   ]
  },
  {
   "cell_type": "markdown",
   "metadata": {},
   "source": [
    "### Dictionaries\n",
    "- It works on the concepts of set\n",
    "- unique Data\n",
    "- Keys,Values\n",
    "- Key is the unique idntifier for a value\n",
    "- Vlaue is the data that can be accessed with a key\n",
    "\n"
   ]
  },
  {
   "cell_type": "code",
   "execution_count": 24,
   "metadata": {},
   "outputs": [
    {
     "data": {
      "text/plain": [
       "False"
      ]
     },
     "execution_count": 24,
     "metadata": {},
     "output_type": "execute_result"
    }
   ],
   "source": [
    "d1={\"k1\":\"value1\",\"k2\":\"value2\"}\n",
    "d1[\"k2\"]     # Accessing the value with key \"k2\"\n",
    "d1.keys()    # returns list of all keys\n",
    "d1.values()  # returns list of all values\n",
    "d1.items()   # returns list of tuples of keys and values\n",
    "d1[\"k3\"]=\"values3\"  # Adding an element to the dictionary\n",
    "\n",
    "d1[\"k3\"]=\"value4\"  # Updating an element\n",
    "d1.pop(\"k2\")       # removing an element\n",
    "d1\n",
    "\"value1\" in d1\n"
   ]
  },
  {
   "cell_type": "markdown",
   "metadata": {},
   "source": [
    "### Contacts Applications\n",
    "- Add contacts\n",
    "- Search for contacts\n",
    "- List all contacts\n",
    "    - name1 : phone1\n",
    "    - name2 : phone2\n",
    "- Modify contacts\n",
    "- Remove contacts"
   ]
  },
  {
   "cell_type": "code",
   "execution_count": 3,
   "metadata": {},
   "outputs": [
    {
     "name": "stdout",
     "output_type": "stream",
     "text": [
      "contact name1 added\n"
     ]
    }
   ],
   "source": [
    "contacts={}\n",
    "def addcontact(name,phone):\n",
    "    if name not in contacts:\n",
    "        contacts[name]=phone\n",
    "        print(\"contact %s added\" %name)\n",
    "    else:\n",
    "        print(\"contact %s already exists\" % name)\n",
    "    return\n",
    "addcontact(\"name1\",\"8790700295\")\n",
    "    \n",
    "        "
   ]
  },
  {
   "cell_type": "code",
   "execution_count": 4,
   "metadata": {},
   "outputs": [
    {
     "name": "stdout",
     "output_type": "stream",
     "text": [
      "name1 : 8790700295\n"
     ]
    }
   ],
   "source": [
    "def searchcontact(name):\n",
    "    if name in contacts:\n",
    "        print(name,\":\",contacts[name])\n",
    "    else:\n",
    "        print(\"%s does not exist\" %name)\n",
    "    return\n",
    "searchcontact(\"name1\")"
   ]
  },
  {
   "cell_type": "code",
   "execution_count": 7,
   "metadata": {},
   "outputs": [
    {
     "name": "stdout",
     "output_type": "stream",
     "text": [
      "contacts name added\n"
     ]
    }
   ],
   "source": [
    "def modifycontact(name,phone):\n",
    "    if name not in contacts:\n",
    "        contacts[name]=phone\n",
    "        print(\"contacts %s added\" %name)\n",
    "    else:\n",
    "        print(\"%s does not exit\" %name)\n",
    "    return \n",
    "modifycontact(\"name\",\"9492363502\")"
   ]
  },
  {
   "cell_type": "code",
   "execution_count": 41,
   "metadata": {},
   "outputs": [
    {
     "data": {
      "text/plain": [
       "{'name1': '8790700295', 'vanitha': '9492363502', 'name': '9492363502'}"
      ]
     },
     "execution_count": 41,
     "metadata": {},
     "output_type": "execute_result"
    }
   ],
   "source": [
    "contacts"
   ]
  },
  {
   "cell_type": "code",
   "execution_count": 5,
   "metadata": {},
   "outputs": [
    {
     "name": "stdout",
     "output_type": "stream",
     "text": [
      "2\n"
     ]
    }
   ],
   "source": [
    "def importcontact(newcontacts):\n",
    "    contacts.update(newcontacts)\n",
    "    print(len(newcontacts.keys())), \"added successfully\"\n",
    "    return \n",
    "newcontacts={\"name2\":9505820607,\"name3\":6543221}\n",
    "importcontact(newcontacts)"
   ]
  },
  {
   "cell_type": "code",
   "execution_count": 6,
   "metadata": {},
   "outputs": [
    {
     "data": {
      "text/plain": [
       "{'name1': '8790700295', 'name2': 9505820607, 'name3': 6543221}"
      ]
     },
     "execution_count": 6,
     "metadata": {},
     "output_type": "execute_result"
    }
   ],
   "source": [
    "contacts"
   ]
  },
  {
   "cell_type": "code",
   "execution_count": 10,
   "metadata": {},
   "outputs": [
    {
     "name": "stdout",
     "output_type": "stream",
     "text": [
      "vanitha contact is not deleted\n"
     ]
    }
   ],
   "source": [
    "def removecontact(name):\n",
    "    if name in contacts:\n",
    "        contacts.pop(name)\n",
    "        print(\"%s contact is deleted\" %name)\n",
    "    else:\n",
    "        print(\"%s contact is not deleted\" %name)\n",
    "    return\n",
    "    \n",
    "removecontact(\"vanitha\")\n",
    "\n",
    "        "
   ]
  },
  {
   "cell_type": "code",
   "execution_count": 9,
   "metadata": {
    "scrolled": true
   },
   "outputs": [
    {
     "data": {
      "text/plain": [
       "{'name1': '8790700295',\n",
       " 'name2': 9505820607,\n",
       " 'name3': 6543221,\n",
       " 'name': '9492363502'}"
      ]
     },
     "execution_count": 9,
     "metadata": {},
     "output_type": "execute_result"
    }
   ],
   "source": [
    "contacts"
   ]
  },
  {
   "cell_type": "code",
   "execution_count": 15,
   "metadata": {
    "scrolled": true
   },
   "outputs": [
    {
     "name": "stdout",
     "output_type": "stream",
     "text": [
      "name1 : 8790700295\n",
      "name2 : 9505820607\n",
      "name3 : 6543221\n",
      "name : 9492363502\n"
     ]
    }
   ],
   "source": [
    "def listofcontacts(n):\n",
    "    for i in n.keys():\n",
    "        print(i,\":\",contacts[i])\n",
    "    return\n",
    "listofcontacts(contacts)"
   ]
  },
  {
   "cell_type": "markdown",
   "metadata": {},
   "source": [
    "### Packages and Modules\n",
    "- Packages -> collection of modules(python file .py) and sub packages\n",
    "- Modules  -> A single python file containing functions\n",
    "- package -> Subpackage -> Modules -> Functions"
   ]
  },
  {
   "cell_type": "code",
   "execution_count": 33,
   "metadata": {},
   "outputs": [
    {
     "data": {
      "text/plain": [
       "123"
      ]
     },
     "execution_count": 33,
     "metadata": {},
     "output_type": "execute_result"
    }
   ],
   "source": [
    "from  math import floor as fl\n",
    "\n",
    "floor(123.456)\n",
    "\n",
    "#pi\n",
    "\n",
    "#math.floor(123.456)\n",
    "#math.ceil(123.456)\n",
    "#math.factorial(6)\n",
    "#math.pi\n",
    "#math.gcd(12,14)"
   ]
  },
  {
   "cell_type": "code",
   "execution_count": 52,
   "metadata": {},
   "outputs": [
    {
     "name": "stdout",
     "output_type": "stream",
     "text": [
      "4  12  41  28  84  31  13  48  39  70  "
     ]
    }
   ],
   "source": [
    "#Function to generate a N random numbers\n",
    "\n",
    "import random\n",
    "def generateRandom(n,lb,ub):\n",
    "    for i in range(0,n):\n",
    "        print(random.randint(lb,ub),end=\"  \")\n",
    "generateRandom(10,0,100)\n",
    "\n",
    "\n",
    "\n",
    "\n",
    "\n",
    "#random.randint(0,100)"
   ]
  },
  {
   "cell_type": "code",
   "execution_count": null,
   "metadata": {},
   "outputs": [],
   "source": []
  },
  {
   "cell_type": "code",
   "execution_count": null,
   "metadata": {},
   "outputs": [],
   "source": []
  },
  {
   "cell_type": "code",
   "execution_count": null,
   "metadata": {},
   "outputs": [],
   "source": [
    "\n"
   ]
  }
 ],
 "metadata": {
  "kernelspec": {
   "display_name": "Python 3",
   "language": "python",
   "name": "python3"
  },
  "language_info": {
   "codemirror_mode": {
    "name": "ipython",
    "version": 3
   },
   "file_extension": ".py",
   "mimetype": "text/x-python",
   "name": "python",
   "nbconvert_exporter": "python",
   "pygments_lexer": "ipython3",
   "version": "3.7.3"
  }
 },
 "nbformat": 4,
 "nbformat_minor": 2
}
