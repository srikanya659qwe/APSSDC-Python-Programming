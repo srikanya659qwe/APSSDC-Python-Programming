{
 "cells": [
  {
   "cell_type": "markdown",
   "metadata": {},
   "source": [
    "### Converting File Data in to Lists:"
   ]
  },
  {
   "cell_type": "code",
   "execution_count": 1,
   "metadata": {
    "scrolled": true
   },
   "outputs": [
    {
     "data": {
      "text/plain": [
       "['new data',\n",
       " 'line2\\\\line3line2',\n",
       " 'line3Line2',\n",
       " 'Line3line4line 5Line3line4line 5line4',\n",
       " 'line 5',\n",
       " 'Line4',\n",
       " 'Line 5',\n",
       " '']"
      ]
     },
     "execution_count": 1,
     "metadata": {},
     "output_type": "execute_result"
    }
   ],
   "source": [
    "# Function to read a file into a lost of lines\n",
    "# Each element in the list is one line in the file\n",
    "\n",
    "def readfiletolist(filepath):\n",
    "    with open(filepath,'r') as f:\n",
    "        filedata=f.read()\n",
    "        lines=filedata.split('\\n')\n",
    "        #lines=[]\n",
    "        #for line in f:\n",
    "            #lines.append(lines)\n",
    "    return lines\n",
    "filepath='DataFiles/data.txt'\n",
    "readfiletolist(filepath)"
   ]
  },
  {
   "cell_type": "code",
   "execution_count": 6,
   "metadata": {},
   "outputs": [
    {
     "name": "stdout",
     "output_type": "stream",
     "text": [
      "new data\n",
      "line2\\line3line2\n",
      "line3Line2\n",
      "Line3line4line 5Line3line4line 5line4\n",
      "line 5\n",
      "Line4\n",
      "Line 5\n",
      "\n"
     ]
    }
   ],
   "source": [
    "# Read the entire data from a file\n",
    "\n",
    "def readfile(filepath):\n",
    "    with open(filepath,'r') as f:\n",
    "        #print(type(f))\n",
    "        filedata=f.read()         # reads the entire data \n",
    "    return filedata\n",
    "filepath='DataFiles/data.txt'\n",
    "print(readfile(filepath))    "
   ]
  },
  {
   "cell_type": "code",
   "execution_count": 9,
   "metadata": {},
   "outputs": [
    {
     "data": {
      "text/plain": [
       "95"
      ]
     },
     "execution_count": 9,
     "metadata": {},
     "output_type": "execute_result"
    }
   ],
   "source": [
    "# Function to print the char count in a files\n",
    "\n",
    "def charcountlinesinfile(filepath):\n",
    "    count=len(readfile(filepath))\n",
    "    return count\n",
    "charcountlinesinfile(filepath)\n",
    "\n",
    "\n",
    "\n"
   ]
  },
  {
   "cell_type": "code",
   "execution_count": 7,
   "metadata": {},
   "outputs": [
    {
     "data": {
      "text/plain": [
       "8"
      ]
     },
     "execution_count": 7,
     "metadata": {},
     "output_type": "execute_result"
    }
   ],
   "source": [
    "# Function to print the word count in files\n",
    "\n",
    "import re\n",
    "def wordcount(filepath):\n",
    "    pattern='[\\n]'\n",
    "    filedata=readfile(filepath)\n",
    "    count=len(re.split(pattern,filedata))\n",
    "    return count\n",
    "wordcount(filepath)"
   ]
  },
  {
   "cell_type": "code",
   "execution_count": null,
   "metadata": {},
   "outputs": [],
   "source": [
    "# Function to print unique word count\n",
    "\n",
    "\n"
   ]
  },
  {
   "cell_type": "code",
   "execution_count": null,
   "metadata": {},
   "outputs": [],
   "source": [
    "# fUNCTION TO GET UNIQUE ELEMENTS IN A LIST\n",
    "# [1,2,3,S]"
   ]
  }
 ],
 "metadata": {
  "kernelspec": {
   "display_name": "Python 3",
   "language": "python",
   "name": "python3"
  },
  "language_info": {
   "codemirror_mode": {
    "name": "ipython",
    "version": 3
   },
   "file_extension": ".py",
   "mimetype": "text/x-python",
   "name": "python",
   "nbconvert_exporter": "python",
   "pygments_lexer": "ipython3",
   "version": "3.7.3"
  }
 },
 "nbformat": 4,
 "nbformat_minor": 2
}
