{
 "cells": [
  {
   "cell_type": "markdown",
   "metadata": {},
   "source": [
    "### Regular Expression\n",
    "- Pattern Matching\n",
    "- Symbolic Notation of a pattern \n",
    "    - Pattern : Format which repeat\n",
    "    - Pattern(RE): Represent the set of all values\n",
    "- [0-9] ->any digit\n",
    "- [a-z] -> any lower case alphabet\n",
    "- [2468] -> All single digit multiple of 2\n",
    "- [8642]\n",
    "- [6824]\n",
    "- ^[0-9]{1}$ ->Only one digit number\n",
    "\n",
    "- ^[0-9]{2}$ ->Only two digit number\n",
    "\n",
    "- [0-9]*[0]$  ->All Multiple of 10\n",
    "\n",
    "- ^[0-9][0-9]*[0]$ ->All Multiple of 5\n",
    "\n",
    "    - ^[1-9][0-9]*[05]|([5])$ ->All Multiple of 5 and 10\n",
    "    \n",
    "    - ^[1-9][0-9]{9}$ - > 10 digit number\n",
    "    \n",
    "    -[w][o][r][d] or (word) -> searching for a word\n",
    "    \n",
    "    \n",
    "    - ^ [6-9][0-9]{9}$ | ^[0][6-9][0-9]{9}$| ^[+][9][1][6-9][0-9]{9}$ ->valid phone number\n",
    "    \n",
    "    - Email Validation(username@domain.extension)\n",
    "    -Username \n",
    "        -Length of Username :[6,15]\n",
    "        -No special characters other than _.\n",
    "        -should not begin and end with _.\n",
    "        -character set: all digits and lowercase\n",
    "    -Domain\n",
    "        -Length of Domain :  [3,18]\n",
    "        -no special characters\n",
    "        -character set: all digits and alphabet\n",
    "    -Extension\n",
    "        -length of Extension :[2,4]\n",
    "        -no special characters\n",
    "        -character set: alphabet \n",
    "        \n",
    "      -^[0-9a-z][0-9a-z_.]{4,13}[0-9a-z][@][0-9a-z]{3,18}[.][a-z]{2,4}$\n",
    "      \n",
    "- ^[a]...[z]$ Any string of length 5 that start with \"a\" and ends with \"z\"\n",
    "- ^[a].*[z]$ any string starts with a and ends with z\n"
   ]
  },
  {
   "cell_type": "code",
   "execution_count": 3,
   "metadata": {},
   "outputs": [
    {
     "name": "stdout",
     "output_type": "stream",
     "text": [
      "9492363502\n",
      "valid number\n"
     ]
    }
   ],
   "source": [
    "#Function to validate a phone number\n",
    "import re\n",
    "def phonenumber(number):\n",
    "    pattern='^[6-9][0-9]{9}$|^[0][6-9][0-9]{9}$ | ^[+][9][1][6-9][0-9]{9}$'\n",
    "    if re.match(pattern,number):\n",
    "        print(\"valid number\")\n",
    "    else:\n",
    "        print(\"invalid number\")\n",
    "    return\n",
    "number=input()\n",
    "phonenumber(number)\n",
    "\n",
    "\n",
    "\n",
    "def verifiedmail(email):\n",
    "    pattern='^[0-9a-z][0-9a-z_.]{4,13}[0-9a-z][@][0-9a-z]{3,18}[.][a-z]{2,4}$'\n",
    "    if re.match(pattern,email):\n",
    "        return True\n",
    "    return False\n",
    "#verifiedmail(\"_12345@gmail.com\")\n",
    "        \n",
    "    "
   ]
  },
  {
   "cell_type": "code",
   "execution_count": 1,
   "metadata": {},
   "outputs": [
    {
     "name": "stdout",
     "output_type": "stream",
     "text": [
      "_12345@gmail.com\n",
      "invalid email\n"
     ]
    }
   ],
   "source": [
    "import re\n",
    "def verifiedmail(email):\n",
    "    pattern='^[0-9a-z][0-9a-z_.]{4,13}[0-9a-z][@][0-9a-z]{3,18}[.][a-z]{2,4}$'\n",
    "    if re.match(pattern,email):\n",
    "        print(\"valid email\")\n",
    "    else:\n",
    "        print(\"invalid email\")\n",
    "    return\n",
    "email=input()\n",
    "verifiedmail(email)\n",
    "    "
   ]
  },
  {
   "cell_type": "code",
   "execution_count": 11,
   "metadata": {
    "scrolled": true
   },
   "outputs": [
    {
     "name": "stdout",
     "output_type": "stream",
     "text": [
      "valid number\n",
      "invalid phone number\n",
      "{'name1': [9492363502, 'name1@domain.ext'], 'name2': [8790700295, 'name2@domain.ext'], 'name3': ['9492363502', 'srikanya659@gmail.com']}\n"
     ]
    }
   ],
   "source": [
    "contacts={\"name1\":[9492363502,'name1@domain.ext'],\"name2\":[8790700295,\"name2@domain.ext\"]}\n",
    "def addcontact(name,phone,email):\n",
    "    if name in contacts:\n",
    "        print(name,\"already exists\")\n",
    "    else:\n",
    "        if not phonenumber(phone):\n",
    "            print(\"invalid phone number\")\n",
    "        if not verifiedmail(email):\n",
    "            print(\"invalid email address\")\n",
    "            return\n",
    "        newcontact= []\n",
    "        newcontact.append(phone) \n",
    "        newcontact.append(email)\n",
    "        contacts[name]=newcontact\n",
    "    print(contacts)\n",
    "addcontact(\"name3\",\"9492363502\",\"srikanya659@gmail.com\")\n",
    "        "
   ]
  },
  {
   "cell_type": "code",
   "execution_count": 14,
   "metadata": {},
   "outputs": [
    {
     "name": "stdout",
     "output_type": "stream",
     "text": [
      "name1\n",
      "phone : 9492363502\n",
      "email : name1@domain.ext\n"
     ]
    }
   ],
   "source": [
    "def searchcontact(name):\n",
    "    if name in contacts:\n",
    "        print(name)\n",
    "        print(\"phone :\",contacts[name][0])\n",
    "        print(\"email :\",contacts[name][1])\n",
    "    else:\n",
    "        print(\"%s does not exist\" %name)\n",
    "    return\n",
    "searchcontact(\"name1\")"
   ]
  },
  {
   "cell_type": "code",
   "execution_count": 15,
   "metadata": {
    "scrolled": true
   },
   "outputs": [
    {
     "name": "stdout",
     "output_type": "stream",
     "text": [
      "1\n"
     ]
    },
    {
     "data": {
      "text/plain": [
       "{'name1': [9492363502, 'name1@domain.ext'],\n",
       " 'name2': [8790700295, 'name2@domain.ext'],\n",
       " 'name3': ['9492363502', 'srikanya659@gmail.com'],\n",
       " 'name4': [9876543234, 'name4_123@gmail.com']}"
      ]
     },
     "execution_count": 15,
     "metadata": {},
     "output_type": "execute_result"
    }
   ],
   "source": [
    "def importcontact(newcontacts):\n",
    "    contacts.update(newcontacts)\n",
    "    print(len(newcontacts.keys())), \"added successfully\"\n",
    "    return \n",
    "newcontacts={\"name4\":[9876543234,\"name4_123@gmail.com\"]}\n",
    "importcontact(newcontacts)\n",
    "contacts"
   ]
  },
  {
   "cell_type": "code",
   "execution_count": 18,
   "metadata": {},
   "outputs": [
    {
     "name": "stdout",
     "output_type": "stream",
     "text": [
      "name1 : [9492363502, 'name1@domain.ext']\n",
      "name2 : [8790700295, 'name2@domain.ext']\n",
      "name3 : ['9492363502', 'srikanya659@gmail.com']\n",
      "name4 : [9876543234, 'name4_123@gmail.com']\n"
     ]
    }
   ],
   "source": [
    "def listofcontacts(n):\n",
    "    for i in n.keys():\n",
    "        print(i,\":\",contacts[i])\n",
    "    return\n",
    "listofcontacts(contacts)"
   ]
  },
  {
   "cell_type": "code",
   "execution_count": 19,
   "metadata": {
    "scrolled": true
   },
   "outputs": [
    {
     "name": "stdout",
     "output_type": "stream",
     "text": [
      "name1 \n",
      " phone : 9492363502 \n",
      " email : name1@domain.ext\n",
      "name2 \n",
      " phone : 8790700295 \n",
      " email : name2@domain.ext\n",
      "name3 \n",
      " phone : 9492363502 \n",
      " email : srikanya659@gmail.com\n",
      "name4 \n",
      " phone : 9876543234 \n",
      " email : name4_123@gmail.com\n"
     ]
    }
   ],
   "source": [
    "def listallcontacts():\n",
    "    for contact, info in contacts.items():\n",
    "        print(contact,\"\\n\",\"phone :\",info[0],\"\\n\",\"email :\",info[1])\n",
    "    return\n",
    "listallcontacts()\n",
    "        "
   ]
  },
  {
   "cell_type": "code",
   "execution_count": null,
   "metadata": {},
   "outputs": [],
   "source": [
    "## Function to edit contact information\n",
    "def editcontact(name,phone,email):\n",
    "    "
   ]
  },
  {
   "cell_type": "markdown",
   "metadata": {},
   "source": [
    "### File Handling in Python\n",
    "- File: Document containing information residing perminent storage\n",
    "- Types: Text,PDF,CSV etc\n",
    "\n",
    "- File I/o-Channelling I/o data to files\n",
    "- Default I/o channels-keyboard / screen\n",
    "- Change I/o channel to files for reading and writing \n",
    "- Read a file-Input\n",
    "- Write to a file-output\n",
    "- Read/write a file : open(filename,mode)\n",
    "- \n"
   ]
  },
  {
   "cell_type": "code",
   "execution_count": 18,
   "metadata": {},
   "outputs": [
    {
     "name": "stdout",
     "output_type": "stream",
     "text": [
      "Line1\n",
      "Line2\n",
      "Line3Line1\n",
      "Line2\n",
      "Line3\n"
     ]
    }
   ],
   "source": [
    "#Function to rad a file\n",
    "def readfile(filename):\n",
    "    f=open(filename,'r')\n",
    "    filedata=f.read()\n",
    "    f.close()\n",
    "    return filedata\n",
    "filename='DataFiles/data.txt'\n",
    "filedata=readfile(filename)\n",
    "readfile(filename)\n",
    "#for line in filedata.split('\\n'):\n",
    "    #print(line)\n",
    "    \n",
    "    \n",
    "    \n",
    "    \n",
    "def printfiledata(filename):\n",
    "    f=open(filename,'r')\n",
    "    for line in f:\n",
    "        print(line,end=\"\")\n",
    "    return\n",
    "printfiledata(filename)\n",
    "print(readfile(filename))"
   ]
  },
  {
   "cell_type": "code",
   "execution_count": 24,
   "metadata": {},
   "outputs": [],
   "source": [
    "#Function to write into a file\n",
    "def writeinfile(filename,filedata):\n",
    "    with open(filename,'w') as f:\n",
    "        f.write(filedata)\n",
    "    return\n",
    "filename='DataFiles/data.txt'\n",
    "writeinfile(filename,\"new data\\n\")\n",
    "    "
   ]
  },
  {
   "cell_type": "code",
   "execution_count": 34,
   "metadata": {},
   "outputs": [],
   "source": [
    "# Function to append data to a file\n",
    "def appenddata(filename,filedata):\n",
    "    with open(filename,'a') as f:\n",
    "        for line in filedata:\n",
    "            \n",
    "            f.write(line+'\\n')\n",
    "    return\n",
    "filedata=[\"Line4\",\"Line 5\"]\n",
    "appenddata(filename,filedata)"
   ]
  },
  {
   "cell_type": "markdown",
   "metadata": {},
   "source": [
    "### Goki and his breakup\n"
   ]
  },
  {
   "cell_type": "code",
   "execution_count": 3,
   "metadata": {
    "scrolled": false
   },
   "outputs": [
    {
     "name": "stdout",
     "output_type": "stream",
     "text": [
      "5\n",
      "100\n",
      "130\n",
      "YES\n",
      "110\n",
      "YES\n",
      "95\n",
      "NO\n",
      "100\n",
      "YES\n",
      "190\n",
      "YES\n"
     ]
    }
   ],
   "source": [
    "## Goki and his breakup\n",
    "\n",
    "def Breakup(n):\n",
    "    if(n==l or n>=l):\n",
    "        print(\"YES\")\n",
    "    else:\n",
    "        print(\"NO\")\n",
    "\n",
    "tcs=int(input())\n",
    "l=int(input())\n",
    "for i in range(1,tcs+1):\n",
    "    n=int(input())\n",
    "    Breakup(n)\n"
   ]
  },
  {
   "cell_type": "markdown",
   "metadata": {},
   "source": [
    "### Ali and Heling innocent people"
   ]
  },
  {
   "cell_type": "code",
   "execution_count": null,
   "metadata": {},
   "outputs": [],
   "source": [
    "# Ali and Helping innocent people\n",
    "s=input()\n",
    "li=['A','E','I','O','U','Y']\n",
    "if len(s)==9:\n",
    "    if s[2] not in li:\n",
    "        if s[6]=='-':\n",
    "            if ((int(s[0])+int(s[1]))%2==0 and (int(s[3])+int(s[4]))%2==0 and (int(s[4])+int(s[5]))%2==0 and (int(s[7])+int(s[8]))%2==0):\n",
    "                print(\"valid\")\n",
    "            else:\n",
    "                print(\"invalid\")\n",
    "        else:\n",
    "            print(\"invalid\")\n",
    "        \n",
    "    else:\n",
    "        print(\"invalid\")\n",
    "else:\n",
    "    print(\"invalid\")        "
   ]
  },
  {
   "cell_type": "markdown",
   "metadata": {},
   "source": [
    "### Ladderophilia"
   ]
  },
  {
   "cell_type": "code",
   "execution_count": 11,
   "metadata": {},
   "outputs": [
    {
     "name": "stdout",
     "output_type": "stream",
     "text": [
      "4\n",
      "*   *\n",
      "*   *\n",
      "*****\n",
      "*   *\n",
      "*   *\n",
      "*****\n",
      "*   *\n",
      "*   *\n",
      "*****\n",
      "*   *\n",
      "*   *\n",
      "*****\n",
      "*   *\n",
      "*   *\n"
     ]
    }
   ],
   "source": [
    "# Ladderophilia\n",
    "n=int(input())\n",
    "for i in range(1,n+1):\n",
    "    for j in range(2):\n",
    "        print('*   *')\n",
    "    print(\"*****\")\n",
    "for j in range(2):\n",
    "        print('*   *')"
   ]
  },
  {
   "cell_type": "code",
   "execution_count": null,
   "metadata": {},
   "outputs": [],
   "source": []
  }
 ],
 "metadata": {
  "kernelspec": {
   "display_name": "Python 3",
   "language": "python",
   "name": "python3"
  },
  "language_info": {
   "codemirror_mode": {
    "name": "ipython",
    "version": 3
   },
   "file_extension": ".py",
   "mimetype": "text/x-python",
   "name": "python",
   "nbconvert_exporter": "python",
   "pygments_lexer": "ipython3",
   "version": "3.7.3"
  }
 },
 "nbformat": 4,
 "nbformat_minor": 2
}
