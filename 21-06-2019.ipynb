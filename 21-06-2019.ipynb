{
 "cells": [
  {
   "cell_type": "code",
   "execution_count": 12,
   "metadata": {
    "scrolled": true
   },
   "outputs": [
    {
     "name": "stdout",
     "output_type": "stream",
     "text": [
      "2\n",
      "9 6\n",
      "10\n",
      "1 1\n",
      "1 1\n",
      "0 1\n",
      "0 0\n",
      "0 1\n",
      "0 0\n",
      "0 1\n",
      "0 1\n",
      "1 1\n",
      "0 0\n",
      "69\n",
      "1 9\n",
      "10\n",
      "0 1\n",
      "0 0\n",
      "0 0\n",
      "0 1\n",
      "1 0\n",
      "0 1\n",
      "0 1\n",
      "0 0\n",
      "0 1\n",
      "0 0\n",
      "14\n"
     ]
    }
   ],
   "source": [
    "# Cost of Ballons\n",
    "t=int(input())\n",
    "for s in range(0,t):\n",
    "    g,p=map(int,input().split())\n",
    "    n=int(input())\n",
    "    x1=[]\n",
    "    x2=[]\n",
    "    for t in range(0,n):\n",
    "        i,j=map(int,input().split())\n",
    "        x1.append(i)\n",
    "        x2.append(j)\n",
    "    if g>p:\n",
    "        if sum(x1)>sum(x2):\n",
    "            print(g*sum(x2)+p*sum(x1))\n",
    "        else:\n",
    "            print(g*sum(x1)+p*sum(x2))\n",
    "    else:\n",
    "        \n",
    "        if sum(x1)>sum(x2):\n",
    "            print(p*sum(x2)+g*sum(x1))\n",
    "        else:\n",
    "            print(p*sum(x1)+g*sum(x2))\n",
    "        "
   ]
  },
  {
   "cell_type": "markdown",
   "metadata": {},
   "source": [
    "### Seating Arrangement"
   ]
  },
  {
   "cell_type": "code",
   "execution_count": 3,
   "metadata": {},
   "outputs": [
    {
     "name": "stdout",
     "output_type": "stream",
     "text": [
      "2\n",
      "18\n",
      "19 WS\n",
      "40\n",
      "45 AS\n"
     ]
    }
   ],
   "source": [
    "t=int(input())\n",
    "for i in range(t):\n",
    "    n=int(input())\n",
    "    if n%12==1 :\n",
    "        print((n+11),'WS')\n",
    "    elif n%12==2:\n",
    "        print((n+9),'MS')\n",
    "    elif n%12==3:\n",
    "        print((n+7),'AS')\n",
    "    elif n%12==4:\n",
    "        print((n+5),'AS')\n",
    "    elif n%12==5:\n",
    "        print((n+3),'MS')\n",
    "    elif n%12==6:\n",
    "        print((n+1),'WS')\n",
    "    elif n%12==7:\n",
    "        print((n-1),'WS')\n",
    "    elif n%12==8:\n",
    "        print((n-3),'MS')\n",
    "    elif n%12==9:\n",
    "        print((n-5),'AS')\n",
    "    elif n%12==10:\n",
    "        print((n-7),'AS')\n",
    "    elif n%12==11:\n",
    "        print((n-9),'MS')\n",
    "    elif n%12==0:\n",
    "        print((n-11),'WS')\n",
    "        \n",
    "\n",
    "\n",
    "\n",
    "\n"
   ]
  },
  {
   "cell_type": "code",
   "execution_count": 10,
   "metadata": {},
   "outputs": [
    {
     "name": "stdout",
     "output_type": "stream",
     "text": [
      "name1 already exists\n"
     ]
    }
   ],
   "source": [
    "#Function to add contact to contacts text file\n",
    "\n",
    "\n",
    "from Packages import validator\n",
    "\n",
    "def addcontact(name,phone,email):\n",
    "    # store data as name,phone,email in the contacts file \n",
    "    filename='DataFiles/contacts.txt'\n",
    "    if not checkcontacts(name):\n",
    "        if pnv(phone) and ev(email):\n",
    "            \n",
    "            if phonenumber(phone) and verifiedmail(email):\n",
    "                \n",
    "            \n",
    "                with open(filename,'a') as f:\n",
    "                    \n",
    "                \n",
    "            \n",
    "                    line=name +','+ str(phone) +','+ email +'\\n'\n",
    "                    f.write(line)\n",
    "                print(name,'added to contacts')\n",
    "            else:\n",
    "                print('Invalid phone number and email ')\n",
    "                return\n",
    "    else:\n",
    "        print(name,'already exists')\n",
    "    return\n",
    "#addcontact('name1','8790700295','name1@gmail.com')\n",
    "\n",
    "\n",
    "\n",
    "#Function to check if contact already exists\n",
    "import re\n",
    "def checkcontacts(name):\n",
    "    filename='DataFiles/contacts.txt'\n",
    "    with open(filename,'r') as f:\n",
    "        filedata=f.read()\n",
    "        pattern=name+','\n",
    "    return re.search(name,filedata)\n",
    "#if checkcontacts(\"name1,\"):\n",
    "    #print(False)\n",
    "addcontact('name1',8790700295,'name1@gmai.com')"
   ]
  },
  {
   "cell_type": "code",
   "execution_count": 11,
   "metadata": {},
   "outputs": [
    {
     "data": {
      "text/plain": [
       "[['name1', '9876543210', 'name1_234@gmail.com\\n'],\n",
       " ['name2',\n",
       "  '9492363502',\n",
       "  'name2_345@gmail.comname1',\n",
       "  '8790700295',\n",
       "  'name1@gmail.com\\n'],\n",
       " ['name1', '8790700295', 'name1@gmail.com\\n'],\n",
       " ['name1', '8790700295', 'name1@gmail.com\\n'],\n",
       " ['name1', '8790700295', 'name1@gmail.com\\n'],\n",
       " ['name1', '8790700295', 'name1@gmail.com\\n'],\n",
       " ['name1', '8790700295', 'name1@gmail.com\\n'],\n",
       " ['name1', '8790700295', 'name1@gmail.com\\n'],\n",
       " ['name1', '8790700295', 'name1@gmail.com\\n'],\n",
       " ['name1', '8790700295', 'name1@gmail.com\\n'],\n",
       " ['name1', '8790700295', 'name1@gmail.com\\n'],\n",
       " ['name1', '8790700295', 'name1@gmail.com\\n'],\n",
       " ['name1', '8790700295', 'name1@gmail.com\\n'],\n",
       " ['name1', '8790700295', 'name1@gmail.com\\n']]"
      ]
     },
     "execution_count": 11,
     "metadata": {},
     "output_type": "execute_result"
    }
   ],
   "source": [
    "#Function to csv to list\n",
    "\n",
    "filename='DataFiles/contacts.txt'\n",
    "def csvlist(filename):\n",
    "    li=[]\n",
    "    with open(filename,'r') as f:\n",
    "        for line in f:\n",
    "            li.append(line.split(','))\n",
    "    return li \n",
    "#csvlist(filename)\n",
    "def listtofile(li):\n",
    "    s = ''\n",
    "    for i in li:\n",
    "        s.join(i)\n",
    "    return s\n",
    "csvlist(filename)\n",
    "#listtofile(li)\n"
   ]
  },
  {
   "cell_type": "code",
   "execution_count": null,
   "metadata": {},
   "outputs": [],
   "source": []
  }
 ],
 "metadata": {
  "kernelspec": {
   "display_name": "Python 3",
   "language": "python",
   "name": "python3"
  },
  "language_info": {
   "codemirror_mode": {
    "name": "ipython",
    "version": 3
   },
   "file_extension": ".py",
   "mimetype": "text/x-python",
   "name": "python",
   "nbconvert_exporter": "python",
   "pygments_lexer": "ipython3",
   "version": "3.7.3"
  }
 },
 "nbformat": 4,
 "nbformat_minor": 2
}
