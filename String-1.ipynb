{
 "cells": [
  {
   "cell_type": "code",
   "execution_count": 3,
   "metadata": {},
   "outputs": [
    {
     "data": {
      "text/plain": [
       "'Hello Bob!'"
      ]
     },
     "execution_count": 3,
     "metadata": {},
     "output_type": "execute_result"
    }
   ],
   "source": [
    "#Given a string name, e.g. \"Bob\", return a greeting of the form \"Hello Bob!\".\n",
    "\n",
    "\n",
    "#hello_name('Bob') → 'Hello Bob!'\n",
    "#hello_name('Alice') → 'Hello Alice!'\n",
    "#hello_name('X') → 'Hello X!'\n",
    "\n",
    "def hello_name(name):\n",
    "    \n",
    "        \n",
    "          return \"Hello \" + name + \"!\"\n",
    "hello_name('Bob')\n"
   ]
  },
  {
   "cell_type": "code",
   "execution_count": 4,
   "metadata": {},
   "outputs": [
    {
     "data": {
      "text/plain": [
       "'HiByeByeHi'"
      ]
     },
     "execution_count": 4,
     "metadata": {},
     "output_type": "execute_result"
    }
   ],
   "source": [
    "#Given two strings, a and b, return the result of putting them together in the order abba, e.g. \"Hi\" and \"Bye\" returns \"HiByeByeHi\".\n",
    "\n",
    "\n",
    "#make_abba('Hi', 'Bye') → 'HiByeByeHi'\n",
    "#make_abba('Yo', 'Alice') → 'YoAliceAliceYo'\n",
    "#make_abba('What', 'Up') → 'WhatUpUpWhat'\n",
    "\n",
    "def make_abba(a, b):\n",
    "        return a+2*b+a\n",
    "make_abba('Hi','Bye')\n"
   ]
  },
  {
   "cell_type": "code",
   "execution_count": 5,
   "metadata": {},
   "outputs": [
    {
     "data": {
      "text/plain": [
       "'<i>Yay</i>'"
      ]
     },
     "execution_count": 5,
     "metadata": {},
     "output_type": "execute_result"
    }
   ],
   "source": [
    "#The web is built with HTML strings like \"<i>Yay</i>\" which draws Yay as italic text. In this example, the \"i\" tag makes <i> and </i> which surround the word \"Yay\". Given tag and word strings, create the HTML string with tags around the word, e.g. \"<i>Yay</i>\".\n",
    "\n",
    "\n",
    "#make_tags('i', 'Yay') → '<i>Yay</i>'\n",
    "#make_tags('i', 'Hello') → '<i>Hello</i>'\n",
    "#make_tags('cite', 'Yay') → '<cite>Yay</cite>'\n",
    "\n",
    "\n",
    "\n",
    "def make_tags(tag, word):\n",
    "       return \"<\"+tag+\">\"+word+\"</\"+tag+\">\"\n",
    "make_tags('i','Yay')"
   ]
  },
  {
   "cell_type": "code",
   "execution_count": 6,
   "metadata": {},
   "outputs": [
    {
     "data": {
      "text/plain": [
       "'<<Yay>>'"
      ]
     },
     "execution_count": 6,
     "metadata": {},
     "output_type": "execute_result"
    }
   ],
   "source": [
    "#Given an \"out\" string length 4, such as \"<<>>\", and a word, return a new string where the word is in the middle of the out string, e.g. \"<<word>>\".\n",
    "\n",
    "\n",
    "#make_out_word('<<>>', 'Yay') → '<<Yay>>'\n",
    "#make_out_word('<<>>', 'WooHoo') → '<<WooHoo>>'\n",
    "#make_out_word('[[]]', 'word') → '[[word]]'\n",
    "\n",
    "def make_out_word(out, word):\n",
    "    return out[:2] + word + out[2:]\n",
    "make_out_word('<<>>','Yay')\n"
   ]
  },
  {
   "cell_type": "code",
   "execution_count": 7,
   "metadata": {},
   "outputs": [
    {
     "data": {
      "text/plain": [
       "'lololo'"
      ]
     },
     "execution_count": 7,
     "metadata": {},
     "output_type": "execute_result"
    }
   ],
   "source": [
    "#Given a string, return a new string made of 3 copies of the last 2 chars of the original string. The string length will be at least 2.\n",
    "\n",
    "\n",
    "#extra_end('Hello') → 'lololo'\n",
    "#extra_end('ab') → 'ababab'\n",
    "#extra_end('Hi') → 'HiHiHi'\n",
    "\n",
    "def extra_end(str):\n",
    "      return str[-2:]*3\n",
    "extra_end('Hello')\n"
   ]
  },
  {
   "cell_type": "code",
   "execution_count": 8,
   "metadata": {},
   "outputs": [
    {
     "data": {
      "text/plain": [
       "'He'"
      ]
     },
     "execution_count": 8,
     "metadata": {},
     "output_type": "execute_result"
    }
   ],
   "source": [
    "#Given a string, return the string made of its first two chars, so the String \"Hello\" yields \"He\". If the string is shorter than length 2, return whatever there is, so \"X\" yields \"X\", and the empty string \"\" yields the empty string \"\".\n",
    "\n",
    "\n",
    "#first_two('Hello') → 'He'\n",
    "#first_two('abcdefg') → 'ab'\n",
    "#first_two('ab') → 'ab'\n",
    "\n",
    "\n",
    "def first_two(str):\n",
    "      return str[:2]\n",
    "first_two('Hello')\n"
   ]
  },
  {
   "cell_type": "code",
   "execution_count": 27,
   "metadata": {},
   "outputs": [
    {
     "data": {
      "text/plain": [
       "'Hello'"
      ]
     },
     "execution_count": 27,
     "metadata": {},
     "output_type": "execute_result"
    }
   ],
   "source": [
    "#Given a string of even length, return the first half. So the string \"WooHoo\" yields \"Woo\".\n",
    "\n",
    "\n",
    "#first_half('WooHoo') → 'Woo'\n",
    "#first_half('HelloThere') → 'Hello'\n",
    "#first_half('abcdef') → 'abc'\n",
    "\n",
    "def first_half(str):\n",
    "   return str[:len(str)//2]\n",
    "first_half('HelloThree')\n"
   ]
  },
  {
   "cell_type": "code",
   "execution_count": null,
   "metadata": {},
   "outputs": [],
   "source": [
    "#Given a string, return a version without the first and last char, so \"Hello\" yields \"ell\". The string length will be at least 2.\n",
    "\n",
    "\n",
    "#without_end('Hello') → 'ell'\n",
    "#without_end('java') → 'av'\n",
    "#without_end('coding') → 'odin'"
   ]
  },
  {
   "cell_type": "code",
   "execution_count": 21,
   "metadata": {},
   "outputs": [
    {
     "data": {
      "text/plain": [
       "'ell'"
      ]
     },
     "execution_count": 21,
     "metadata": {},
     "output_type": "execute_result"
    }
   ],
   "source": [
    "#Given 2 strings, a and b, return a string of the form short+long+short, with the shorter string on the outside and the longer string on the inside. The strings will not be the same length, but they may be empty (length 0).\n",
    "\n",
    "\n",
    "#combo_string('Hello', 'hi') → 'hiHellohi'\n",
    "#combo_string('hi', 'Hello') → 'hiHellohi'\n",
    "#combo_string('aaa', 'b') → 'baaab'\n",
    "\n",
    "def without_end(str):\n",
    "      return str[1:-1]\n",
    "without_end('Hello')\n",
    "\n"
   ]
  },
  {
   "cell_type": "code",
   "execution_count": 22,
   "metadata": {},
   "outputs": [
    {
     "data": {
      "text/plain": [
       "'hiHellohi'"
      ]
     },
     "execution_count": 22,
     "metadata": {},
     "output_type": "execute_result"
    }
   ],
   "source": [
    "#Given 2 strings, return their concatenation, except omit the first char of each. The strings will be at least length 1.\n",
    "\n",
    "\n",
    "#non_start('Hello', 'There') → 'ellohere'\n",
    "#non_start('java', 'code') → 'avaode'\n",
    "#non_start('shotl', 'java') → 'hotlava'\n",
    "\n",
    "\n",
    "def combo_string(a, b):\n",
    "  if len(a)<len(b):\n",
    "    \n",
    "    return a+b+a\n",
    "  else:\n",
    "    return b+a+b\n",
    "combo_string('Hello','hi')\n"
   ]
  },
  {
   "cell_type": "code",
   "execution_count": 23,
   "metadata": {},
   "outputs": [
    {
     "data": {
      "text/plain": [
       "'ellohere'"
      ]
     },
     "execution_count": 23,
     "metadata": {},
     "output_type": "execute_result"
    }
   ],
   "source": [
    "#Given a string, return a \"rotated left 2\" version where the first 2 chars are moved to the end. The string length will be at least 2.\n",
    "\n",
    "\n",
    "#left2('Hello') → 'lloHe'\n",
    "#left2('java') → 'vaja'\n",
    "#left2('Hi') → 'Hi'\n",
    "\n",
    "def non_start(a, b):\n",
    "  return a[1:]+b[1:]\n",
    "non_start('Hello','There')"
   ]
  },
  {
   "cell_type": "code",
   "execution_count": 24,
   "metadata": {},
   "outputs": [
    {
     "data": {
      "text/plain": [
       "'lloHe'"
      ]
     },
     "execution_count": 24,
     "metadata": {},
     "output_type": "execute_result"
    }
   ],
   "source": [
    "#Given a string, return a \"rotated left 2\" version where the first 2 chars are moved to the end. The string length will be at least 2.\n",
    "\n",
    "\n",
    "#left2('Hello') → 'lloHe'\n",
    "#left2('java') → 'vaja'\n",
    "#left2('Hi') → 'Hi'\n",
    "\n",
    "def left2(str):\n",
    "    return str[2:]+str[:2]\n",
    "left2('Hello')\n"
   ]
  },
  {
   "cell_type": "code",
   "execution_count": null,
   "metadata": {},
   "outputs": [],
   "source": []
  }
 ],
 "metadata": {
  "kernelspec": {
   "display_name": "Python 3",
   "language": "python",
   "name": "python3"
  },
  "language_info": {
   "codemirror_mode": {
    "name": "ipython",
    "version": 3
   },
   "file_extension": ".py",
   "mimetype": "text/x-python",
   "name": "python",
   "nbconvert_exporter": "python",
   "pygments_lexer": "ipython3",
   "version": "3.7.3"
  }
 },
 "nbformat": 4,
 "nbformat_minor": 2
}
