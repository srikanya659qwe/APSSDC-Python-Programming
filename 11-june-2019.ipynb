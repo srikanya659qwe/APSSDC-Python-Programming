{
 "cells": [
  {
   "cell_type": "markdown",
   "metadata": {},
   "source": [
    "## Markdown Basics\n",
    "*Italic*<br>\n",
    "**bold**<br>\n",
    "***Italic Bold***\n",
    "* normal text\n",
    "# unordered list\n",
    "    * sublist 1\n",
    "    * sublist 2\n",
    "    \n",
    "# ordered list\n",
    "\n",
    ">1. list 1\n",
    ">2. list 2\n",
    "# adding links\n",
    "I get 10 times more traffic from [Google] [1] than from\n",
    "[Yahoo] [2] or [MSN] [3].\n",
    "\n",
    "  [1]: http://google.com/        \"Google\"\n",
    "  [2]: http://search.yahoo.com/  \"Yahoo Search\"\n",
    "  [3]: http://search.msn.com/    \"MSN Search\"\n",
    "  \n",
    "`printf(\"Hello Markdown\")`\n",
    "\n",
    "<https://google.com><br>\n",
    "<https://gmail.com>\n",
    "\n",
    "\n",
    "\n",
    "# image adding \n",
    "\n",
    "[Jupyter Logo](jp.png)\n",
    "\n",
    "\n",
    "\n",
    "\n"
   ]
  },
  {
   "cell_type": "markdown",
   "metadata": {},
   "source": []
  },
  {
   "cell_type": "markdown",
   "metadata": {},
   "source": [
    "# python basics\n",
    "Python version 3.7\n",
    "\n",
    "-scripting\n",
    "-object oriented\n",
    "-functional"
   ]
  },
  {
   "cell_type": "code",
   "execution_count": 1,
   "metadata": {},
   "outputs": [
    {
     "name": "stdout",
     "output_type": "stream",
     "text": [
      "Good Afternoon !||hai this is srikanya\n"
     ]
    }
   ],
   "source": [
    "#python comments\n",
    "\n",
    "print(\"Good Afternoon\", \"!\", end=\"||\")#Basic output\n",
    "print(\"hai this is srikanya\")\n"
   ]
  },
  {
   "cell_type": "code",
   "execution_count": null,
   "metadata": {},
   "outputs": [],
   "source": []
  },
  {
   "cell_type": "code",
   "execution_count": null,
   "metadata": {},
   "outputs": [],
   "source": []
  },
  {
   "cell_type": "markdown",
   "metadata": {},
   "source": [
    "### Assignments"
   ]
  },
  {
   "cell_type": "code",
   "execution_count": 2,
   "metadata": {},
   "outputs": [
    {
     "name": "stdout",
     "output_type": "stream",
     "text": [
      "123456 123456 123456 123456\n",
      "123 234 345\n"
     ]
    }
   ],
   "source": [
    "n1=123456 #single variable assignment\n",
    "\n",
    "n2=n3=n4=n1 #multi variable assignment of the same value\n",
    "\n",
    "print(n1,n2,n3,n4)\n",
    "\n",
    "n2\n",
    "a,b,c=123,234,345  #multi variable asssignment with different values\n",
    "\n",
    "print(a,b,c)\n",
    "\n",
    "\n"
   ]
  },
  {
   "cell_type": "markdown",
   "metadata": {},
   "source": [
    "### Data Types & Type conversions\n",
    "- int\n",
    "- float\n",
    "- string\n",
    "\n"
   ]
  },
  {
   "cell_type": "code",
   "execution_count": 3,
   "metadata": {},
   "outputs": [
    {
     "data": {
      "text/plain": [
       "12.0"
      ]
     },
     "execution_count": 3,
     "metadata": {},
     "output_type": "execute_result"
    }
   ],
   "source": [
    "type(a)\n",
    "s1=\"python\"\n",
    "type(s1)\n",
    "\n",
    "f1=12.34\n",
    "type(f1)\n",
    "\n",
    "float(str(int(f1)))"
   ]
  },
  {
   "cell_type": "markdown",
   "metadata": {},
   "source": [
    "### Arthmetic Operations\n",
    "- +\n",
    "- -\n",
    "- *\n",
    "- /\n",
    "- ^\n",
    "- %"
   ]
  },
  {
   "cell_type": "code",
   "execution_count": 4,
   "metadata": {},
   "outputs": [
    {
     "data": {
      "text/plain": [
       "6130687873308026945890176790042303730066739281"
      ]
     },
     "execution_count": 4,
     "metadata": {},
     "output_type": "execute_result"
    }
   ],
   "source": [
    "n1 % 11\n",
    "\n",
    "n3=n2 ** 123456\n",
    "\n",
    "type(n3)\n",
    "\n",
    "len(str(n3))\n",
    "\n",
    "atoms = 10 ** 82\n",
    "\n",
    "len(str(atoms))\n",
    "\n",
    "type(str(atoms))\n",
    "\n",
    "len(str(atoms))\n",
    "\n",
    "122321 ** 9\n"
   ]
  },
  {
   "cell_type": "code",
   "execution_count": null,
   "metadata": {},
   "outputs": [],
   "source": []
  },
  {
   "cell_type": "markdown",
   "metadata": {},
   "source": [
    "### Conditionals\n",
    "\n"
   ]
  },
  {
   "cell_type": "code",
   "execution_count": null,
   "metadata": {},
   "outputs": [
    {
     "name": "stdout",
     "output_type": "stream",
     "text": [
      "TRUE\n"
     ]
    }
   ],
   "source": [
    "if atoms < 10 ** 96:\n",
    "    print(\"TRUE\")\n",
    "else:\n",
    "    print(\"FALSE\")"
   ]
  },
  {
   "cell_type": "code",
   "execution_count": null,
   "metadata": {},
   "outputs": [
    {
     "name": "stdout",
     "output_type": "stream",
     "text": [
      "odd\n"
     ]
    }
   ],
   "source": [
    "#check if a number is even\n",
    "\n",
    "n=123\n",
    "if n % 2==0:\n",
    "    print(\"EVEN\")\n",
    "else:\n",
    "   print(\"odd\")\n"
   ]
  },
  {
   "cell_type": "markdown",
   "metadata": {},
   "source": [
    "### check the greatest of 3 numbers\n",
    "n=int(input(\"Enter the First number\"))\n",
    "\n",
    "n1=int(input(\"Enter the second number\"))\n",
    "\n",
    "n2=int(input(\"Enter the third number\"))\n",
    "\n",
    "if n > n1 and n1 > n2:\n",
    "\n",
    "    print(n,\"is the greatest\")\n",
    "    \n",
    "elif n1 > n2:\n",
    "\n",
    "    print(n1,\"is the greatest\")\n",
    "    \n",
    "else:\n",
    "    print(n2,\"is the greatest\")\n"
   ]
  },
  {
   "cell_type": "code",
   "execution_count": null,
   "metadata": {},
   "outputs": [],
   "source": [
    "### check if a year is leap year or not\n",
    "n=int(input(\"Enter the year\"))\n",
    "if(n%400==0 or (n%100!=0 and n%4==0)):\n",
    "    print(\"given year is leap year\")\n",
    "else:\n",
    "    print(\"given year is not leap year\")"
   ]
  },
  {
   "cell_type": "code",
   "execution_count": 4,
   "metadata": {},
   "outputs": [
    {
     "name": "stdout",
     "output_type": "stream",
     "text": [
      "Enter the first number10\n",
      "Enter the lower bound5\n",
      "Enter the upper boubd15\n",
      "Yes\n"
     ]
    }
   ],
   "source": [
    "##### check if a number exists in a given range\n",
    "n1=int(input(\"Enter the first number\"))\n",
    "lb=int(input(\"Enter the lower bound\"))\n",
    "ub=int(input(\"Enter the upper boubd\"))\n",
    "if(n1 > lb and n1 < ub):\n",
    "    print(\"Yes\")\n",
    "else:\n",
    "    print(\"No\")"
   ]
  },
  {
   "cell_type": "code",
   "execution_count": 13,
   "metadata": {},
   "outputs": [
    {
     "name": "stdout",
     "output_type": "stream",
     "text": [
      "Enter the number 2345\n",
      "4\n"
     ]
    }
   ],
   "source": [
    "## check if a number of digits in a number\n",
    "n1=int(input(\"Enter the number \"))\n",
    "c=0\n",
    "while(n1!=0):\n",
    "    n1=n1//10\n",
    "    c=c+1\n",
    "print(c)\n"
   ]
  },
  {
   "cell_type": "code",
   "execution_count": 5,
   "metadata": {},
   "outputs": [
    {
     "name": "stdout",
     "output_type": "stream",
     "text": [
      "Enter the number5\n",
      "not a multiple of 10\n"
     ]
    }
   ],
   "source": [
    "###check if a number is a multiple of 10\n",
    "n1=int(input(\"Enter the number\"))\n",
    "if(n1%10==0):\n",
    "    print(\"multiple of 10\")\n",
    "else:\n",
    "    print(\"not a multiple of 10\")\n"
   ]
  },
  {
   "cell_type": "code",
   "execution_count": 6,
   "metadata": {},
   "outputs": [
    {
     "name": "stdout",
     "output_type": "stream",
     "text": [
      "Enter the number2000\n",
      "yes\n"
     ]
    }
   ],
   "source": [
    "###check if a number is factor of 1000\n",
    "n1=int(input(\"Enter the number\"))\n",
    "if(n1%1000==0):\n",
    "    print(\"yes\")\n",
    "else:\n",
    "    print(\"no\")"
   ]
  },
  {
   "cell_type": "code",
   "execution_count": 9,
   "metadata": {},
   "outputs": [
    {
     "name": "stdout",
     "output_type": "stream",
     "text": [
      "1234 is not equal to 123\n"
     ]
    }
   ],
   "source": [
    "###check if given string is equal to a number\n",
    "s1=\"123\"\n",
    "n1=1234\n",
    "if str(n1)==s1:\n",
    "    print(n1,\"is equal to\",s1)\n",
    "else:\n",
    "    print(n1,\"is not equal to\",s1)"
   ]
  },
  {
   "cell_type": "code",
   "execution_count": 10,
   "metadata": {},
   "outputs": [
    {
     "data": {
      "text/plain": [
       "11.090536506409418"
      ]
     },
     "execution_count": 10,
     "metadata": {},
     "output_type": "execute_result"
    }
   ],
   "source": [
    "### calculate the square of a number\n",
    "n1=123\n",
    "n1 ** 0.5"
   ]
  },
  {
   "cell_type": "code",
   "execution_count": 11,
   "metadata": {},
   "outputs": [
    {
     "name": "stdout",
     "output_type": "stream",
     "text": [
      "31536000000000000000000000\n"
     ]
    }
   ],
   "source": [
    "### calculate the no of nano seconds\n",
    "y=2019\n",
    "if(y%400==0 or (y%100!=100 and y%4==0)):\n",
    "    print(366 * 24 * 60 * 60 *(100**9))\n",
    "else:\n",
    "    print(365 * 24 * 60 * 60 *(100**9))"
   ]
  },
  {
   "cell_type": "code",
   "execution_count": null,
   "metadata": {},
   "outputs": [],
   "source": [
    "###calculate the given no is prime or not\n",
    "n1=int(input(\"Enter the number\"))\n",
    "i=1\n",
    "c=0\n",
    "while(i<=n1):\n",
    "    if(n1%i==0):\n",
    "        c=c+1\n",
    "        i=i+1\n",
    "if(c==1):\n",
    "    print(\"prime\")\n",
    "else:\n",
    "    print(\"not a prime\")\n",
    "    "
   ]
  },
  {
   "cell_type": "code",
   "execution_count": null,
   "metadata": {},
   "outputs": [],
   "source": []
  }
 ],
 "metadata": {
  "kernelspec": {
   "display_name": "Python 3",
   "language": "python",
   "name": "python3"
  },
  "language_info": {
   "codemirror_mode": {
    "name": "ipython",
    "version": 3
   },
   "file_extension": ".py",
   "mimetype": "text/x-python",
   "name": "python",
   "nbconvert_exporter": "python",
   "pygments_lexer": "ipython3",
   "version": "3.7.3"
  }
 },
 "nbformat": 4,
 "nbformat_minor": 2
}
