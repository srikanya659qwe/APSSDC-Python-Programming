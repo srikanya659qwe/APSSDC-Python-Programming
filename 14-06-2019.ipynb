{
 "cells": [
  {
   "cell_type": "markdown",
   "metadata": {},
   "source": [
    "### Problem Solving and Programming in Python\n",
    "\n",
    "#### Date-14-june 2019\n",
    "\n",
    "#### Day Objectives\n",
    "- Python Data Structures\n",
    " - Lists\n",
    " - Tuples\n",
    " - Dictionaries\n",
    "- Basic Problem set on Data Structures\n",
    "- Advanced Problem Set\n",
    "- Packages and Modules in Python"
   ]
  },
  {
   "cell_type": "markdown",
   "metadata": {},
   "source": [
    "### Python Data Structures\n"
   ]
  },
  {
   "cell_type": "markdown",
   "metadata": {},
   "source": [
    "### Lists"
   ]
  },
  {
   "cell_type": "code",
   "execution_count": 39,
   "metadata": {},
   "outputs": [
    {
     "data": {
      "text/plain": [
       "0"
      ]
     },
     "execution_count": 39,
     "metadata": {},
     "output_type": "execute_result"
    }
   ],
   "source": [
    "li=[123, 345, 567]\n",
    "\n",
    "li  # Acess the entire list\n",
    "\n",
    "li[0] # Acess the first element in a list\n",
    "\n",
    "li[1] # Acess the second element in a list though a index\n",
    "\n",
    "li[1:] #Acess the all elements form second element to last element\n",
    "\n",
    "li=li[::-1] #Acess the all elements in reverse order\n",
    "\n",
    "li\n",
    "\n",
    "li=li[::-1] #Acess the again the same list\n",
    "\n",
    "li\n",
    "\n",
    "li[::2] #Acees even index elements\n",
    "\n",
    "li[1::2] #Acess the odd index element\n",
    "\n",
    "###Data Manipulation\n",
    "   #   Direct Reference\n",
    "   #   indircet reference\n",
    "\n",
    "\n",
    "li.append(345) #Adding an element to end of the list\n",
    "\n",
    "li\n",
    "\n",
    "li.insert(1,234)  #Adding an element at a particular index\n",
    "\n",
    "li\n",
    "\n",
    "li.sort()  #Sorting elements in ascending order\n",
    " \n",
    "li\n",
    "\n",
    "li.pop()  #Remove the last element in a list\n",
    "\n",
    "li\n",
    "\n",
    "li.pop(1) #Remove an element at a particular index\n",
    "\n",
    "li\n",
    "\n",
    "li2=[234,456,678]\n",
    "\n",
    "li.extend(li2)\n",
    "li\n",
    "\n",
    "sum(li)\n",
    "max(li)\n",
    "min(li)\n",
    "len(li)\n",
    "\n",
    "###Average of list elements\n",
    "sum(li) \n",
    "len(li) \n",
    "sum(li)/len(li) \n",
    "###Average of all alternate elements\n",
    "sum(li[::2])/len(li[1::2])\n",
    "li.index(123)\n",
    "  "
   ]
  },
  {
   "cell_type": "code",
   "execution_count": 25,
   "metadata": {},
   "outputs": [
    {
     "data": {
      "text/plain": [
       "10"
      ]
     },
     "execution_count": 25,
     "metadata": {},
     "output_type": "execute_result"
    }
   ],
   "source": [
    "### Second largest number by unsing Function\n",
    "  #sort the data and select the second last element\n",
    "  #sort the data in reverse order, and select the second \n",
    "  #Remove the max element and then get the max of the\n",
    "li=[23,110,10,34,21]\n",
    "def secondlargest(li):\n",
    "        li.sort()\n",
    "        return li[-2]\n",
    "    \n",
    "#secondlargest(li)\n",
    "\n",
    "#function that returns the nth largest\n",
    "def genericlargest(li,n):\n",
    "    li.sort()\n",
    "    return li[-n]\n",
    "secondlargest(li)\n",
    "genericlargest(li,5)\n"
   ]
  },
  {
   "cell_type": "code",
   "execution_count": 12,
   "metadata": {},
   "outputs": [
    {
     "name": "stdout",
     "output_type": "stream",
     "text": [
      "Enter number of elements:5\n",
      "Enter element:12\n",
      "Enter element:67\n",
      "Enter element:87\n",
      "Enter element:90\n",
      "Enter element:45\n",
      "Second largest element is: 87\n"
     ]
    }
   ],
   "source": [
    "## Second Largest elements in lists\n",
    "a=[]\n",
    "n=int(input(\"Enter number of elements:\"))\n",
    "for i in range(1,n+1):\n",
    "    b=int(input(\"Enter element:\"))\n",
    "    a.append(b)\n",
    "a.sort()\n",
    "print(\"Second largest element is:\",a[n-2])\n",
    "\n"
   ]
  },
  {
   "cell_type": "code",
   "execution_count": 44,
   "metadata": {},
   "outputs": [
    {
     "data": {
      "text/plain": [
       "0"
      ]
     },
     "execution_count": 44,
     "metadata": {},
     "output_type": "execute_result"
    }
   ],
   "source": [
    "##Function to search for data in a list\n",
    "#Search for the key in th elist and return the index values or -1\n",
    "\n",
    "li=[12,10,23,34,21]\n",
    "def linearsearch(li,key):\n",
    "    for i in range(0,len(li)):\n",
    "        if li[i]==key:\n",
    "            return i+1\n",
    "    return -1\n",
    "    #if key in li:\n",
    "        #return li.index(key)\n",
    "    #else:\n",
    "        #return -1\n",
    "        \n",
    "def linearsearch2(li,key):\n",
    "    for i in li:\n",
    "        if i==key:\n",
    "            return li.index(i)\n",
    "        return -1\n",
    "    \n",
    "def linearsearch3(li,key):\n",
    "    if key in li:\n",
    "        \n",
    "        return li.index(key)\n",
    "    return -1\n",
    "    \n",
    "#linearsearch(li,10)\n",
    "#linearsearch2(li,12)\n",
    "linearsearch3(li,12)\n",
    "    "
   ]
  },
  {
   "cell_type": "code",
   "execution_count": 59,
   "metadata": {},
   "outputs": [
    {
     "data": {
      "text/plain": [
       "0"
      ]
     },
     "execution_count": 59,
     "metadata": {},
     "output_type": "execute_result"
    }
   ],
   "source": [
    "#Function to count the occurances of a character in a string\n",
    "#\"python Programming\",m ->2\n",
    "def countoccurance(s,c):\n",
    "    count=0\n",
    "    for ch in s:\n",
    "        if ch == c:\n",
    "            count +=1\n",
    "    return count\n",
    "def countoccurance2(s,c):\n",
    "    return s.count(c)\n",
    "#countoccurance(\"Python Programming\",'m')\n",
    "countoccurance2(\"Python Programming\",'py')  \n",
    "\n",
    "#Function to find the number of occurances of a substring \n",
    "#abcabcddcba\",  ->\"ab\"->2\n",
    "\n",
    "def substring(s,c):\n",
    "    count=0\n",
    "    for ch in s:\n",
    "        if ch == c:\n",
    "            count=count+1\n",
    "    return count\n",
    "substring(\"abcabcddcba\",\"ab\")\n",
    "    \n",
    "\n"
   ]
  },
  {
   "cell_type": "code",
   "execution_count": 57,
   "metadata": {},
   "outputs": [
    {
     "data": {
      "text/plain": [
       "['__add__',\n",
       " '__class__',\n",
       " '__contains__',\n",
       " '__delattr__',\n",
       " '__delitem__',\n",
       " '__dir__',\n",
       " '__doc__',\n",
       " '__eq__',\n",
       " '__format__',\n",
       " '__ge__',\n",
       " '__getattribute__',\n",
       " '__getitem__',\n",
       " '__gt__',\n",
       " '__hash__',\n",
       " '__iadd__',\n",
       " '__imul__',\n",
       " '__init__',\n",
       " '__init_subclass__',\n",
       " '__iter__',\n",
       " '__le__',\n",
       " '__len__',\n",
       " '__lt__',\n",
       " '__mul__',\n",
       " '__ne__',\n",
       " '__new__',\n",
       " '__reduce__',\n",
       " '__reduce_ex__',\n",
       " '__repr__',\n",
       " '__reversed__',\n",
       " '__rmul__',\n",
       " '__setattr__',\n",
       " '__setitem__',\n",
       " '__sizeof__',\n",
       " '__str__',\n",
       " '__subclasshook__',\n",
       " 'append',\n",
       " 'clear',\n",
       " 'copy',\n",
       " 'count',\n",
       " 'extend',\n",
       " 'index',\n",
       " 'insert',\n",
       " 'pop',\n",
       " 'remove',\n",
       " 'reverse',\n",
       " 'sort']"
      ]
     },
     "execution_count": 57,
     "metadata": {},
     "output_type": "execute_result"
    }
   ],
   "source": [
    "dir(list)"
   ]
  },
  {
   "cell_type": "code",
   "execution_count": null,
   "metadata": {},
   "outputs": [],
   "source": []
  }
 ],
 "metadata": {
  "kernelspec": {
   "display_name": "Python 3",
   "language": "python",
   "name": "python3"
  },
  "language_info": {
   "codemirror_mode": {
    "name": "ipython",
    "version": 3
   },
   "file_extension": ".py",
   "mimetype": "text/x-python",
   "name": "python",
   "nbconvert_exporter": "python",
   "pygments_lexer": "ipython3",
   "version": "3.7.3"
  }
 },
 "nbformat": 4,
 "nbformat_minor": 2
}
