{
 "cells": [
  {
   "cell_type": "code",
   "execution_count": 2,
   "metadata": {},
   "outputs": [],
   "source": [
    "import re\n",
    "\n",
    "def phoneNumberValidator(number):\n",
    "    pattern = '^[6-9][0-9]{9}$|^[0][6-9][0-9]{9}|^[+][9][1][6-9][0-9]{9}$'\n",
    "    if re.match(pattern, str(number)):\n",
    "        return True\n",
    "    return False\n",
    "\n",
    "def emailValidator(email):\n",
    "    pattern = \"^[0-9a-z][0-9a-z_.]{4,13}[0-9a-z][@][a-z0-9]{3,18}[.][a-z]{2,4}$\"\n",
    "    if re.match(pattern, email):\n",
    "        return True\n",
    "    return False"
   ]
  },
  {
   "cell_type": "code",
   "execution_count": 3,
   "metadata": {},
   "outputs": [
    {
     "data": {
      "text/plain": [
       "1"
      ]
     },
     "execution_count": 3,
     "metadata": {},
     "output_type": "execute_result"
    }
   ],
   "source": [
    "def highestFrequency(li):\n",
    "    unique = []\n",
    "    for n in li:\n",
    "        if n not in unique:\n",
    "            unique.append(n)\n",
    "    unique = sorted(unique,reverse = True)\n",
    "    highest = unique[0]\n",
    "    c = 0\n",
    "    for i in range(0,len(li)):\n",
    "        if li[i] == highest:\n",
    "            c+=1\n",
    "    #c = unique.count(unique[0])\n",
    "    return c\n",
    "highestFrequency([22,34,55,80,80,20,80,45,65,90])"
   ]
  },
  {
   "cell_type": "code",
   "execution_count": 1,
   "metadata": {},
   "outputs": [
    {
     "data": {
      "text/plain": [
       "-1"
      ]
     },
     "execution_count": 1,
     "metadata": {},
     "output_type": "execute_result"
    }
   ],
   "source": [
    "def secondLargest(li):\n",
    "    # Convert the list into a unique list\n",
    "    # O(n)\n",
    "    unique = []\n",
    "    for n in li:\n",
    "        if n not in unique:\n",
    "            unique.append(n)\n",
    "    \n",
    "    unique = sorted(unique, reverse=True)\n",
    "    if len(unique) > 1:\n",
    "        return unique[1]\n",
    "    return -1\n",
    "\n",
    "secondLargest([1])\n",
    "\n",
    "# def fifthLeast(li)\n",
    "\n",
    "# def kLargest(li, k)\n",
    "\n",
    "def kSmallest(li, k):\n",
    "    # Extract Unique elements in the list\n",
    "    unique = []\n",
    "    for i in li:\n",
    "        if i not in unique:\n",
    "            unique.append(i)\n",
    "            \n",
    "            \n",
    "     # Sort the Unique list in ascending order\n",
    "    unique = sorted(unique)\n",
    "    \n",
    "    #Check if length of unique list is greater than k\n",
    "    if len(unique) >= k:\n",
    "        return unique[k-1]\n",
    "    return -1\n",
    "\n",
    "kSmallest([], 1)"
   ]
  },
  {
   "cell_type": "code",
   "execution_count": 2,
   "metadata": {},
   "outputs": [
    {
     "data": {
      "text/plain": [
       "1"
      ]
     },
     "execution_count": 2,
     "metadata": {},
     "output_type": "execute_result"
    }
   ],
   "source": [
    "# Function to identify the element with highest frequency in a list\n",
    "# If many elements have the have the highest frequency, return the smallest\n",
    "# highestFrequencyElement([1,2,3,9,8,7,3,4,2,1]) -> 1\n",
    "def highestFrequencyElement(li):\n",
    "    #Extracting unique elements with frequencies\n",
    "    unique = {}\n",
    "    for n in li:\n",
    "        if n in unique:\n",
    "            unique[n] += 1\n",
    "        else:\n",
    "            unique[n] = 1\n",
    "    # unique = {1:2, 2:2, 3:2, 9:1, 8:1, 7:1, 4:1}\n",
    "    maxfreq = max(unique.values())\n",
    "    \n",
    "    #Extract all keys with maxfreq in a list\n",
    "    maxfreqkeys = []\n",
    "    for item in unique.items():\n",
    "        #item -> (key, value)\n",
    "        # item[1]\n",
    "        if item[1] == maxfreq:\n",
    "            maxfreqkeys.append(item[0])\n",
    "    \n",
    "    return min(maxfreqkeys)\n",
    "\n",
    "highestFrequencyElement([1,2,3,9,8,7,3,4,2,1])"
   ]
  },
  {
   "cell_type": "code",
   "execution_count": 1,
   "metadata": {},
   "outputs": [
    {
     "data": {
      "text/plain": [
       "7"
      ]
     },
     "execution_count": 1,
     "metadata": {},
     "output_type": "execute_result"
    }
   ],
   "source": [
    "#Fumction to find second largest number in a list\n",
    "#o(n)\n",
    "\n",
    "def secondLargest(li):\n",
    "    #convert the list into a unique list\n",
    "    unique=[]\n",
    "    for n in li:\n",
    "        if n not in unique:\n",
    "            unique.append(n)\n",
    "    unique=sorted(unique,reverse=True)\n",
    "    return unique[1] \n",
    "secondLargest([1,2,4,7,8])\n",
    "\n",
    "\n",
    "\n",
    "#ef fifthLeast(li):\n",
    "\n",
    "#def KLargest(li,k)\n",
    "\n",
    "#def KSmallest(li,k)"
   ]
  },
  {
   "cell_type": "code",
   "execution_count": 2,
   "metadata": {},
   "outputs": [
    {
     "data": {
      "text/plain": [
       "5"
      ]
     },
     "execution_count": 2,
     "metadata": {},
     "output_type": "execute_result"
    }
   ],
   "source": [
    "##Write a function to find 5th least number in a list\n",
    "\n",
    "def fifthLeast(li):\n",
    "    #convert the list into a unique list\n",
    "    unique=[]\n",
    "    for n in li:\n",
    "        if n not in unique:\n",
    "            unique.append(n)\n",
    "    unique=sorted(unique,reverse=True)\n",
    "    return unique[-5] \n",
    "fifthLeast([1,2,3,4,5,6,7,8,9])"
   ]
  },
  {
   "cell_type": "code",
   "execution_count": 3,
   "metadata": {},
   "outputs": [
    {
     "name": "stdout",
     "output_type": "stream",
     "text": [
      "3\n"
     ]
    },
    {
     "data": {
      "text/plain": [
       "7"
      ]
     },
     "execution_count": 3,
     "metadata": {},
     "output_type": "execute_result"
    }
   ],
   "source": [
    "##Write a function to KLargest in a list\n",
    "\n",
    "def KLargest(li):\n",
    "    #convert the list into a unique list\n",
    "    unique=[]\n",
    "    for n in li:\n",
    "        if n not in unique:\n",
    "            unique.append(n)\n",
    "    unique=sorted(unique,reverse=True)\n",
    "    if len(unique)>k:\n",
    "        return unique[k-1]\n",
    "    else:\n",
    "        return -1\n",
    "k=int(input())\n",
    "\n",
    "KLargest([1,2,3,4,5,6,7,8,9])"
   ]
  },
  {
   "cell_type": "code",
   "execution_count": 4,
   "metadata": {},
   "outputs": [
    {
     "name": "stdout",
     "output_type": "stream",
     "text": [
      "5\n"
     ]
    },
    {
     "data": {
      "text/plain": [
       "5"
      ]
     },
     "execution_count": 4,
     "metadata": {},
     "output_type": "execute_result"
    }
   ],
   "source": [
    "####Write a function to KSmallest in a list\n",
    "\n",
    "def KSmallest(li):\n",
    "    #convert the list into a unique list\n",
    "    unique=[]\n",
    "    for n in li:\n",
    "        if n not in unique:\n",
    "            unique.append(n)\n",
    "            \n",
    "    ##Sort the unique list in ascending order\n",
    "    unique=sorted(unique)\n",
    "    \n",
    "    ##Check if length of unique list is greater\n",
    "    if len(unique)>k:\n",
    "        return unique[k-1]\n",
    "    else:\n",
    "        return -1\n",
    "k=int(input())\n",
    "\n",
    "KSmallest([1,2,3,4,5,6,7,8,9])"
   ]
  },
  {
   "cell_type": "code",
   "execution_count": 5,
   "metadata": {},
   "outputs": [
    {
     "data": {
      "text/plain": [
       "1"
      ]
     },
     "execution_count": 5,
     "metadata": {},
     "output_type": "execute_result"
    }
   ],
   "source": [
    "###Write a function to identify the element with highest frequency in a list\n",
    "#If any elements have the the highest frequency element\n",
    "\n",
    "##highestFrequency([1,2,3,9,8,7,3,4,2,1])---->1\n",
    "\n",
    "def HighestFrequency(li):\n",
    "    #Extracting unique elements with \n",
    "    unique={}\n",
    "    for n in li:\n",
    "        if n in unique.keys():\n",
    "            unique[n] += 1\n",
    "        else:\n",
    "            unique[n]=1\n",
    "            \n",
    "            \n",
    "            #UNIQUE={1:2, 2:2, 3:2, 9:1, 8:1, }\n",
    "              \n",
    "    #Getting all frequencies into a list\n",
    "    freq=unique.values()\n",
    "    maxfreq=max(freq)\n",
    "    maxfreqE=[]\n",
    "    \n",
    "    ##Identify the keys with maximum frequency\n",
    "    for item in unique.items():\n",
    "        if item[1]==maxfreq:\n",
    "            maxfreqE.append(item[0])\n",
    "    #select the minimum from the keys with maximum\n",
    "    return min(maxfreqE)\n",
    "HighestFrequency([1,2,3,1,1,2])"
   ]
  },
  {
   "cell_type": "code",
   "execution_count": 6,
   "metadata": {},
   "outputs": [
    {
     "name": "stdout",
     "output_type": "stream",
     "text": [
      "2\n",
      "{1: 2, 2: 2, 3: 1, 4: 2, 9: 1}\n",
      "[1, 1, 2, 2, 2]\n"
     ]
    },
    {
     "data": {
      "text/plain": [
       "9"
      ]
     },
     "execution_count": 6,
     "metadata": {},
     "output_type": "execute_result"
    }
   ],
   "source": [
    "###Write a function to identify the element with second highest frequency in a list\n",
    "#If any elements have the the second highest frequency element\n",
    "\n",
    "##secondhighestFrequency(1,2,3,2,1,4,4,9)-->9\n",
    "\n",
    "def SecondHighestFrequency(li):\n",
    "    #Extracting unique elements with \n",
    "    unique={}\n",
    "    for n in li:\n",
    "        if n in unique.keys():\n",
    "            unique[n] += 1\n",
    "        else:\n",
    "            unique[n]=1\n",
    "    print(unique)\n",
    "    un=sorted(unique.values())\n",
    "    print(un)\n",
    "    unique2=[]\n",
    "    for n in un:\n",
    "        if n not in unique2:\n",
    "            unique2.append(n)\n",
    "    uv=unique2[-k]\n",
    "    maxkeys=[]\n",
    "    for item in unique.items():\n",
    "        if item[1]==uv:\n",
    "            maxkeys.append(item[0])\n",
    "    return max(maxkeys)\n",
    "k=int(input())\n",
    "SecondHighestFrequency([1,2,3,2,1,4,4,9])"
   ]
  },
  {
   "cell_type": "code",
   "execution_count": 7,
   "metadata": {},
   "outputs": [
    {
     "name": "stdout",
     "output_type": "stream",
     "text": [
      "756\n",
      "3\n"
     ]
    }
   ],
   "source": [
    "s=int(input())\n",
    "c=0\n",
    "while(s!=0):\n",
    "    rem=s%10\n",
    "    s=s//10\n",
    "    c=c+1\n",
    "print(c)"
   ]
  },
  {
   "cell_type": "code",
   "execution_count": 8,
   "metadata": {},
   "outputs": [
    {
     "data": {
      "text/plain": [
       "[9]"
      ]
     },
     "execution_count": 8,
     "metadata": {},
     "output_type": "execute_result"
    }
   ],
   "source": [
    "#write a function to find highest frequency in a list \n",
    "\n",
    "def KHighestFrequency(s,k):\n",
    "    unique={}\n",
    "    for c in s:\n",
    "        if c not in unique:\n",
    "            unique[c]=1\n",
    "        else:\n",
    "            unique[c]+=1    \n",
    "    uniqfreq=[]\n",
    "    for value in unique.values():\n",
    "        if value not in uniqfreq:\n",
    "            uniqfreq.append(value)\n",
    "    \n",
    "    uniqfreq=sorted(uniqfreq,reverse=True)\n",
    "    kfreq=uniqfreq[k-1]\n",
    "    kfreqchar=[]\n",
    "    for key in unique.items():\n",
    "        if key[1]==kfreq:\n",
    "            kfreqchar.append(key[0])\n",
    "    return kfreqchar\n",
    "KHighestFrequency([9,8,7,6,5,2,3,4,9,6,7,7,7,6,7,6],3)"
   ]
  },
  {
   "cell_type": "code",
   "execution_count": null,
   "metadata": {},
   "outputs": [],
   "source": []
  }
 ],
 "metadata": {
  "kernelspec": {
   "display_name": "Python 3",
   "language": "python",
   "name": "python3"
  },
  "language_info": {
   "codemirror_mode": {
    "name": "ipython",
    "version": 3
   },
   "file_extension": ".py",
   "mimetype": "text/x-python",
   "name": "python",
   "nbconvert_exporter": "python",
   "pygments_lexer": "ipython3",
   "version": "3.7.3"
  }
 },
 "nbformat": 4,
 "nbformat_minor": 2
}
