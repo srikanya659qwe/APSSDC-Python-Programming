{
 "cells": [
  {
   "cell_type": "code",
   "execution_count": 1,
   "metadata": {},
   "outputs": [
    {
     "data": {
      "text/plain": [
       "True"
      ]
     },
     "execution_count": 1,
     "metadata": {},
     "output_type": "execute_result"
    }
   ],
   "source": [
    "#Given an array of ints, return True if 6 appears as either the first or last element in the array. The array will be length 1 or more.\n",
    "\n",
    "\n",
    "#first_last6([1, 2, 6]) → True\n",
    "#first_last6([6, 1, 2, 3]) → True\n",
    "#first_last6([13, 6, 1, 2, 3]) → False\n",
    "\n",
    "\n",
    "def first_last6(nums):\n",
    "  if(nums[0] == 6 or nums[-1] == 6):\n",
    "    \n",
    "    \n",
    "    return True\n",
    "  else:\n",
    "    \n",
    "    \n",
    "    return False\n",
    "\n",
    "first_last6([6,1,2,3])"
   ]
  },
  {
   "cell_type": "code",
   "execution_count": 2,
   "metadata": {},
   "outputs": [
    {
     "data": {
      "text/plain": [
       "True"
      ]
     },
     "execution_count": 2,
     "metadata": {},
     "output_type": "execute_result"
    }
   ],
   "source": [
    "#Given an array of ints, return True if the array is length 1 or more, and the first element and the last element are equal.\n",
    "\n",
    "\n",
    "#same_first_last([1, 2, 3]) → False\n",
    "#same_first_last([1, 2, 3, 1]) → True\n",
    "#same_first_last([1, 2, 1]) → True\n",
    "\n",
    "def same_first_last(nums):\n",
    "  if len(nums) >= 1:\n",
    "    if(nums[0] == nums[-1]):\n",
    "      return True\n",
    "    else:\n",
    "      return False\n",
    "  else:\n",
    "    return False\n",
    "    \n",
    "same_first_last([1,2,1])  \n",
    "\n",
    "\n"
   ]
  },
  {
   "cell_type": "code",
   "execution_count": null,
   "metadata": {},
   "outputs": [],
   "source": []
  }
 ],
 "metadata": {
  "kernelspec": {
   "display_name": "Python 3",
   "language": "python",
   "name": "python3"
  },
  "language_info": {
   "codemirror_mode": {
    "name": "ipython",
    "version": 3
   },
   "file_extension": ".py",
   "mimetype": "text/x-python",
   "name": "python",
   "nbconvert_exporter": "python",
   "pygments_lexer": "ipython3",
   "version": "3.7.3"
  }
 },
 "nbformat": 4,
 "nbformat_minor": 2
}
