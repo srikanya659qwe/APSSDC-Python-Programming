{
 "cells": [
  {
   "cell_type": "code",
   "execution_count": 7,
   "metadata": {},
   "outputs": [
    {
     "data": {
      "text/plain": [
       "True"
      ]
     },
     "execution_count": 7,
     "metadata": {},
     "output_type": "execute_result"
    }
   ],
   "source": [
    "#Given an array of ints, return True if 6 appears as either the first or last element in the array. The array will be length 1 or more.\n",
    "\n",
    "\n",
    "#first_last6([1, 2, 6]) → True\n",
    "#first_last6([6, 1, 2, 3]) → True\n",
    "#first_last6([13, 6, 1, 2, 3]) → False\n",
    "\n",
    "def first_last6(nums):\n",
    "    \n",
    "    if(nums[0] == 6 or nums[-1] == 6):\n",
    "    \n",
    "    \n",
    "        return True\n",
    "    else:\n",
    "    \n",
    "    \n",
    "        return False\n",
    "\n",
    "first_last6([6,1,2,3])\n"
   ]
  },
  {
   "cell_type": "code",
   "execution_count": 12,
   "metadata": {},
   "outputs": [
    {
     "data": {
      "text/plain": [
       "True"
      ]
     },
     "execution_count": 12,
     "metadata": {},
     "output_type": "execute_result"
    }
   ],
   "source": [
    "#Given an array of ints, return True if the array is length 1 or more, and the first element and the last element are equal.\n",
    "\n",
    "\n",
    "#same_first_last([1, 2, 3]) → False\n",
    "#same_first_last([1, 2, 3, 1]) → True\n",
    "#same_first_last([1, 2, 1]) → True\n",
    "#Go...\n",
    "\n",
    "def same_first_last(nums):\n",
    "      if len(nums) >= 1:\n",
    "        if(nums[0] == nums[-1]):\n",
    "              return True\n",
    "        else:\n",
    "              return False\n",
    "    \n",
    "same_first_last([1,2,1])  \n"
   ]
  },
  {
   "cell_type": "code",
   "execution_count": 16,
   "metadata": {},
   "outputs": [
    {
     "data": {
      "text/plain": [
       "[3, 1, 4]"
      ]
     },
     "execution_count": 16,
     "metadata": {},
     "output_type": "execute_result"
    }
   ],
   "source": [
    "#Return an int array length 3 containing the first 3 digits of pi, {3, 1, 4}.\n",
    "\n",
    "\n",
    "#make_pi() → [3, 1, 4]\n",
    "def make_pi():\n",
    "      return[3,1,4]\n",
    "make_pi()\n"
   ]
  },
  {
   "cell_type": "code",
   "execution_count": 17,
   "metadata": {},
   "outputs": [
    {
     "data": {
      "text/plain": [
       "True"
      ]
     },
     "execution_count": 17,
     "metadata": {},
     "output_type": "execute_result"
    }
   ],
   "source": [
    "#Given 2 arrays of ints, a and b, return True if they have the same first element or they have the same last element. Both arrays will be length 1 or more.\n",
    "\n",
    "\n",
    "#common_end([1, 2, 3], [7, 3]) → True\n",
    "#common_end([1, 2, 3], [7, 3, 2]) → False\n",
    "#common_end([1, 2, 3], [1, 3]) → True\n",
    "\n",
    "def common_end(a, b):\n",
    "       return a[0] == b[0] or a[-1] == b[-1]\n",
    "common_end([1,2,3],[7,3])"
   ]
  },
  {
   "cell_type": "code",
   "execution_count": 18,
   "metadata": {},
   "outputs": [
    {
     "data": {
      "text/plain": [
       "6"
      ]
     },
     "execution_count": 18,
     "metadata": {},
     "output_type": "execute_result"
    }
   ],
   "source": [
    "#Given an array of ints length 3, return the sum of all the elements.\n",
    "\n",
    "\n",
    "#sum3([1, 2, 3]) → 6\n",
    "#sum3([5, 11, 2]) → 18\n",
    "#sum3([7, 0, 0]) → 7\n",
    "\n",
    "def sum3(nums):\n",
    "  \n",
    "  return sum(nums)\n",
    "  \n",
    "sum3([1,2,3])\n"
   ]
  },
  {
   "cell_type": "code",
   "execution_count": 19,
   "metadata": {},
   "outputs": [
    {
     "data": {
      "text/plain": [
       "[2, 3, 1]"
      ]
     },
     "execution_count": 19,
     "metadata": {},
     "output_type": "execute_result"
    }
   ],
   "source": [
    "#Given an array of ints length 3, return an array with the elements \"rotated left\" so {1, 2, 3} yields {2, 3, 1}.\n",
    "\n",
    "\n",
    "#rotate_left3([1, 2, 3]) → [2, 3, 1]\n",
    "#rotate_left3([5, 11, 9]) → [11, 9, 5]\n",
    "#rotate_left3([7, 0, 0]) → [0, 0, 7]\n",
    "\n",
    "def rotate_left3(nums):\n",
    "      return [nums[1],nums[2],nums[0]]\n",
    "rotate_left3([1,2,3])\n"
   ]
  },
  {
   "cell_type": "code",
   "execution_count": 20,
   "metadata": {},
   "outputs": [
    {
     "data": {
      "text/plain": [
       "[3, 2, 1]"
      ]
     },
     "execution_count": 20,
     "metadata": {},
     "output_type": "execute_result"
    }
   ],
   "source": [
    "#Given an array of ints length 3, return a new array with the elements in reverse order, so {1, 2, 3} becomes {3, 2, 1}.\n",
    "\n",
    "\n",
    "#reverse3([1, 2, 3]) → [3, 2, 1]\n",
    "#reverse3([5, 11, 9]) → [9, 11, 5]\n",
    "#reverse3([7, 0, 0]) → [0, 0, 7]\n",
    "\n",
    "def reverse3(nums):\n",
    "      return[nums[2],nums[1],nums[0]]\n",
    "reverse3([1,2,3])\n",
    "\n"
   ]
  },
  {
   "cell_type": "code",
   "execution_count": 21,
   "metadata": {},
   "outputs": [
    {
     "data": {
      "text/plain": [
       "[3, 3, 3]"
      ]
     },
     "execution_count": 21,
     "metadata": {},
     "output_type": "execute_result"
    }
   ],
   "source": [
    "#Given an array of ints length 3, figure out which is larger, the first or last element in the array, and set all the other elements to be that value. Return the changed array.\n",
    "\n",
    "\n",
    "#max_end3([1, 2, 3]) → [3, 3, 3]\n",
    "#max_end3([11, 5, 9]) → [11, 11, 11]\n",
    "#max_end3([2, 11, 3]) → [3, 3, 3]\n",
    "\n",
    "def max_end3(nums):\n",
    "      return [nums[0]]*3 if nums[0] >= nums[-1] else [nums[-1]]*3\n",
    "\n",
    "max_end3([1,2,3])\n"
   ]
  },
  {
   "cell_type": "code",
   "execution_count": 22,
   "metadata": {},
   "outputs": [
    {
     "data": {
      "text/plain": [
       "3"
      ]
     },
     "execution_count": 22,
     "metadata": {},
     "output_type": "execute_result"
    }
   ],
   "source": [
    "#Given an array of ints, return the sum of the first 2 elements in the array. If the array length is less than 2, just sum up the elements that exist, returning 0 if the array is length 0.\n",
    "\n",
    "\n",
    "#([1, 2, 3]) → 3\n",
    "#sum2([1, 1]) → 2\n",
    "#sum2([1, 1, 1, 1]) → 2\n",
    "def sum2(nums):\n",
    "       return sum(nums[:2])\n",
    "sum2([1,2,3])\n"
   ]
  },
  {
   "cell_type": "code",
   "execution_count": 23,
   "metadata": {},
   "outputs": [
    {
     "data": {
      "text/plain": [
       "[2, 5]"
      ]
     },
     "execution_count": 23,
     "metadata": {},
     "output_type": "execute_result"
    }
   ],
   "source": [
    "#Given 2 int arrays, a and b, each length 3, return a new array length 2 containing their middle elements.\n",
    "\n",
    "\n",
    "#middle_way([1, 2, 3], [4, 5, 6]) → [2, 5]\n",
    "#middle_way([7, 7, 7], [3, 8, 0]) → [7, 8]\n",
    "#middle_way([5, 2, 9], [1, 4, 5]) → [2, 4]\n",
    "\n",
    "def middle_way(a, b):\n",
    "    return [ a[1] , b[1] ]\n",
    "middle_way([1,2,3],[4,5,6])\n"
   ]
  },
  {
   "cell_type": "code",
   "execution_count": 24,
   "metadata": {},
   "outputs": [
    {
     "data": {
      "text/plain": [
       "[1, 3]"
      ]
     },
     "execution_count": 24,
     "metadata": {},
     "output_type": "execute_result"
    }
   ],
   "source": [
    "#Given an array of ints, return a new array length 2 containing the first and last elements from the original array. The original array will be length 1 or more.\n",
    "\n",
    "\n",
    "#make_ends([1, 2, 3]) → [1, 3]\n",
    "#make_ends([1, 2, 3, 4]) → [1, 4]\n",
    "#make_ends([7, 4, 6, 2]) → [7, 2]\n",
    "def make_ends(nums):\n",
    "      return [nums[0],nums[-1]]\n",
    "make_ends([1,2,3])\n"
   ]
  },
  {
   "cell_type": "code",
   "execution_count": null,
   "metadata": {},
   "outputs": [],
   "source": []
  }
 ],
 "metadata": {
  "kernelspec": {
   "display_name": "Python 3",
   "language": "python",
   "name": "python3"
  },
  "language_info": {
   "codemirror_mode": {
    "name": "ipython",
    "version": 3
   },
   "file_extension": ".py",
   "mimetype": "text/x-python",
   "name": "python",
   "nbconvert_exporter": "python",
   "pygments_lexer": "ipython3",
   "version": "3.7.3"
  }
 },
 "nbformat": 4,
 "nbformat_minor": 2
}
