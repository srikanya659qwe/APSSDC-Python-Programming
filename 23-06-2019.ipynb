{
 "cells": [
  {
   "cell_type": "markdown",
   "metadata": {},
   "source": [
    "### Converting File Data in to Lists:"
   ]
  },
  {
   "cell_type": "code",
   "execution_count": 1,
   "metadata": {
    "scrolled": true
   },
   "outputs": [
    {
     "data": {
      "text/plain": [
       "['new data',\n",
       " 'line2\\\\line3line2',\n",
       " 'line3Line2',\n",
       " 'Line3line4line 5Line3line4line 5line4',\n",
       " 'line 5',\n",
       " 'Line4',\n",
       " 'Line 5',\n",
       " '']"
      ]
     },
     "execution_count": 1,
     "metadata": {},
     "output_type": "execute_result"
    }
   ],
   "source": [
    "# Function to read a file into a lost of lines\n",
    "# Each element in the list is one line in the file\n",
    "\n",
    "def readfiletolist(filepath):\n",
    "    with open(filepath,'r') as f:\n",
    "        filedata=f.read()\n",
    "        lines=filedata.split('\\n')\n",
    "        #lines=[]\n",
    "        #for line in f:\n",
    "            #lines.append(lines)\n",
    "    return lines\n",
    "filepath='DataFiles/data.txt'\n",
    "readfiletolist(filepath)"
   ]
  },
  {
   "cell_type": "code",
   "execution_count": 6,
   "metadata": {},
   "outputs": [
    {
     "name": "stdout",
     "output_type": "stream",
     "text": [
      "new data\n",
      "line2\\line3line2\n",
      "line3Line2\n",
      "Line3line4line 5Line3line4line 5line4\n",
      "line 5\n",
      "Line4\n",
      "Line 5\n",
      "\n"
     ]
    }
   ],
   "source": [
    "# Read the entire data from a file\n",
    "\n",
    "def readfile(filepath):\n",
    "    with open(filepath,'r') as f:\n",
    "        #print(type(f))\n",
    "        filedata=f.read()         # reads the entire data \n",
    "    return filedata\n",
    "filepath='DataFiles/data.txt'\n",
    "print(readfile(filepath))    "
   ]
  },
  {
   "cell_type": "code",
   "execution_count": 9,
   "metadata": {},
   "outputs": [
    {
     "data": {
      "text/plain": [
       "95"
      ]
     },
     "execution_count": 9,
     "metadata": {},
     "output_type": "execute_result"
    }
   ],
   "source": [
    "# Function to print the char count in a files\n",
    "\n",
    "def charcountlinesinfile(filepath):\n",
    "    count=len(readfile(filepath))\n",
    "    return count\n",
    "charcountlinesinfile(filepath)\n",
    "\n",
    "\n",
    "\n"
   ]
  },
  {
   "cell_type": "code",
   "execution_count": 7,
   "metadata": {},
   "outputs": [
    {
     "data": {
      "text/plain": [
       "8"
      ]
     },
     "execution_count": 7,
     "metadata": {},
     "output_type": "execute_result"
    }
   ],
   "source": [
    "# Function to print the word count in files\n",
    "\n",
    "import re\n",
    "def wordcount(filepath):\n",
    "    pattern='[\\n]'\n",
    "    filedata=readfile(filepath)\n",
    "    count=len(re.split(pattern,filedata))\n",
    "    return count\n",
    "wordcount(filepath)"
   ]
  },
  {
   "cell_type": "code",
   "execution_count": 32,
   "metadata": {},
   "outputs": [
    {
     "data": {
      "text/plain": [
       "['new',\n",
       " 'data',\n",
       " 'line2\\\\line3line',\n",
       " 'line3Line2',\n",
       " 'Line3line4line',\n",
       " '5Line3line4line',\n",
       " '5line4',\n",
       " 'line',\n",
       " '5',\n",
       " 'Line4',\n",
       " 'Line']"
      ]
     },
     "execution_count": 32,
     "metadata": {},
     "output_type": "execute_result"
    }
   ],
   "source": [
    "# Function to print unique word count\n",
    "\n",
    "def uniquecount(filepath):\n",
    "    filedata=readfile(filepath).split()\n",
    "    x=[]\n",
    "    for i in filedata:\n",
    "        if i not in x:\n",
    "            x.append(i)\n",
    "    return x\n",
    "filepath='DataFiles/data.txt'\n",
    "uniquecount(filepath)"
   ]
  },
  {
   "cell_type": "code",
   "execution_count": 47,
   "metadata": {},
   "outputs": [
    {
     "name": "stdout",
     "output_type": "stream",
     "text": [
      "new 1 \n",
      "\n",
      "data 1 \n",
      "\n",
      "line2\\line3line 1 \n",
      "\n",
      "line3Line2 1 \n",
      "\n",
      "Line3line4line 1 \n",
      "\n",
      "5Line3line4line 1 \n",
      "\n",
      "5line4 1 \n",
      "\n",
      "line 1 \n",
      "\n",
      "5 2 \n",
      "\n",
      "Line4 1 \n",
      "\n",
      "Line 1 \n",
      "\n"
     ]
    }
   ],
   "source": [
    "# Function to print the frequency count of all words in a file\n",
    "# Frequency Distribution\n",
    "\n",
    "\n",
    "# Data in line 1\n",
    "# Data in line 2\n",
    "# Data in line 3\n",
    "# O/P:\n",
    "# Data:3\n",
    "#  in :3\n",
    "#  line:3\n",
    "#  1:1\n",
    "#  2:1\n",
    "#  3:1\n",
    "\n",
    "def frequencycount(filepath):\n",
    "    x=uniquecount(filepath)\n",
    "    filedata=readfile(filepath).split()\n",
    "    for i in x:\n",
    "        c=0\n",
    "        for j in filedata:\n",
    "            if i==j:\n",
    "                c=c+1\n",
    "        print(i,c,'\\n')\n",
    "            \n",
    "filepath='DataFiles/data.txt'\n",
    "frequencycount(filepath)\n",
    "            \n",
    "        \n"
   ]
  },
  {
   "cell_type": "code",
   "execution_count": 20,
   "metadata": {},
   "outputs": [
    {
     "data": {
      "text/plain": [
       "[1, 2, 3]"
      ]
     },
     "execution_count": 20,
     "metadata": {},
     "output_type": "execute_result"
    }
   ],
   "source": [
    "# fUNCTION TO GET UNIQUE ELEMENTS IN A LIST\n",
    "# [1,2,3,3,2,1] --->[1,2,3]\n",
    "# First create empty unique list[1,2,3]\n",
    "    \n",
    "    # create an empty unique list\n",
    "    # check if element in the main list,check if it exists in the unique list.\n",
    "    # if it does not exist, add it to unique list\n",
    "    # else if it already exists,move on to the next element in the main list\n",
    "def uniquedata(li):\n",
    "    \n",
    "    unique=[]\n",
    "    for element in li:\n",
    "        \n",
    "            \n",
    "        if element not in unique:\n",
    "            \n",
    "            unique.append(element)\n",
    "    return unique\n",
    "li=[1,2,3,3,2,1]\n",
    "uniquedata(li)\n",
    "    \n",
    "    \n"
   ]
  },
  {
   "cell_type": "code",
   "execution_count": null,
   "metadata": {},
   "outputs": [],
   "source": []
  }
 ],
 "metadata": {
  "kernelspec": {
   "display_name": "Python 3",
   "language": "python",
   "name": "python3"
  },
  "language_info": {
   "codemirror_mode": {
    "name": "ipython",
    "version": 3
   },
   "file_extension": ".py",
   "mimetype": "text/x-python",
   "name": "python",
   "nbconvert_exporter": "python",
   "pygments_lexer": "ipython3",
   "version": "3.7.3"
  }
 },
 "nbformat": 4,
 "nbformat_minor": 2
}
