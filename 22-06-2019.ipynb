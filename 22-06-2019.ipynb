{
 "cells": [
  {
   "cell_type": "markdown",
   "metadata": {},
   "source": [
    "### Day Objectives\n",
    "- File Handling\n",
    "    - Basic file data processing\n",
    "      - Acessing and modifying file data\n",
    "    - Character count\n",
    "    - Line count\n",
    "    - file size\n",
    "    - word count\n",
    "    - unique word count"
   ]
  },
  {
   "cell_type": "code",
   "execution_count": 23,
   "metadata": {},
   "outputs": [
    {
     "name": "stdout",
     "output_type": "stream",
     "text": [
      "new data\n",
      "line2\\line3line2\n",
      "line3Line2\n",
      "Line3line4line 5Line3line4line 5line4\n",
      "line 5\n",
      "Line4\n",
      "Line 5\n",
      "\n"
     ]
    }
   ],
   "source": [
    "# Read  a file - file should exist\n",
    "# Write to a file- Existing or new file \n",
    "# Function to read entire file data into a single string\n",
    "\n",
    "def readfile(filepath):\n",
    "    with open(filepath,'r') as f:\n",
    "        #print(type(f))\n",
    "        filedata=f.read()         # reads the entire data \n",
    "    return filedata\n",
    "filepath='DataFiles/data.txt'\n",
    "print(readfile(filepath))        \n",
    "        \n",
    "    "
   ]
  },
  {
   "cell_type": "code",
   "execution_count": 36,
   "metadata": {},
   "outputs": [
    {
     "name": "stdout",
     "output_type": "stream",
     "text": [
      "83\n"
     ]
    }
   ],
   "source": [
    "# Character count\n",
    "\n",
    "def charcount(filepath):\n",
    "    with open(filepath,'r') as f:\n",
    "        filedata=f.read()\n",
    "        count=0\n",
    "        for i in filedata:\n",
    "            if i==\" \" or i==\"\\n\" :\n",
    "                count=count+0\n",
    "            else:\n",
    "                count=count+1\n",
    "        return count\n",
    "filepath='DataFiles/data.txt'\n",
    "print(charcount(filepath))"
   ]
  },
  {
   "cell_type": "code",
   "execution_count": 39,
   "metadata": {},
   "outputs": [
    {
     "name": "stdout",
     "output_type": "stream",
     "text": [
      "7\n"
     ]
    }
   ],
   "source": [
    "# Line count\n",
    "\n",
    "def linecount(filepath):\n",
    "    with open(filepath,'r') as f:\n",
    "        #filedata=f.read()\n",
    "        count=0\n",
    "        for i in f:\n",
    "            if i!=\"\\n\":\n",
    "                count=count+1\n",
    "        return count\n",
    "filepath='DataFiles/data.txt'\n",
    "print(linecount(filepath))\n",
    "\n"
   ]
  },
  {
   "cell_type": "code",
   "execution_count": 56,
   "metadata": {
    "scrolled": true
   },
   "outputs": [
    {
     "name": "stdout",
     "output_type": "stream",
     "text": [
      "12\n",
      "None\n"
     ]
    }
   ],
   "source": [
    "# Word count\n",
    "\n",
    "def wordcount(filepath):\n",
    "    no_words=0\n",
    "    with open(filepath,'r') as f:\n",
    "        #filedata=f.read()\n",
    "        for line in f:\n",
    "            words=line.split()\n",
    "            no_words += len(words)\n",
    "    #print(\"number of words:\")\n",
    "    print(no_words)\n",
    "        \n",
    "#filepath='DataFiles/data.txt'\n",
    "print(wordcount(filepath))"
   ]
  },
  {
   "cell_type": "code",
   "execution_count": 109,
   "metadata": {},
   "outputs": [
    {
     "name": "stdout",
     "output_type": "stream",
     "text": [
      "3\n",
      "3 2\n",
      "5 2\n",
      "1 2\n",
      "3\n"
     ]
    }
   ],
   "source": [
    "d=int(input())\n",
    "c=0\n",
    "for i in range(d):\n",
    "    li=input().split()\n",
    "    r=int(li[0])\n",
    "    x=int(li[1])\n",
    "    if(2*22/7*r <= 100*x):\n",
    "        c=c+1\n",
    "print(c)"
   ]
  },
  {
   "cell_type": "code",
   "execution_count": 51,
   "metadata": {},
   "outputs": [
    {
     "name": "stdout",
     "output_type": "stream",
     "text": [
      "Number of words:\n",
      "12\n"
     ]
    }
   ],
   "source": [
    "num_words=0\n",
    "with open(filepath, 'r') as f:\n",
    "    for line in f:\n",
    "        words = line.split()\n",
    "        num_words += len(words)\n",
    "print(\"Number of words:\")\n",
    "print(num_words)"
   ]
  },
  {
   "cell_type": "code",
   "execution_count": 63,
   "metadata": {},
   "outputs": [
    {
     "data": {
      "text/plain": [
       "'SRIKANYA'"
      ]
     },
     "execution_count": 63,
     "metadata": {},
     "output_type": "execute_result"
    }
   ],
   "source": [
    "s=\"srikanya\"\n",
    "#s.capitalize()\n",
    "#s.lower()\n",
    "#s.swapcase()\n",
    "#s.title()\n",
    "s.upper()"
   ]
  },
  {
   "cell_type": "code",
   "execution_count": 103,
   "metadata": {},
   "outputs": [
    {
     "name": "stdout",
     "output_type": "stream",
     "text": [
      "srihari\n"
     ]
    },
    {
     "data": {
      "text/plain": [
       "'1srihari2srihari3'"
      ]
     },
     "execution_count": 103,
     "metadata": {},
     "output_type": "execute_result"
    }
   ],
   "source": [
    "s1=\"sri\"\n",
    "s2=\"hari\"\n",
    "s3=s1+s2\n",
    "print(s3)\n",
    "s.count(s3)\n",
    "s3.center(50)\n",
    "s3.isspace()\n",
    "s3.rjust(50)\n",
    "s3.join('123')"
   ]
  },
  {
   "cell_type": "code",
   "execution_count": 73,
   "metadata": {},
   "outputs": [
    {
     "name": "stdout",
     "output_type": "stream",
     "text": [
      "False\n"
     ]
    }
   ],
   "source": [
    "if s2 in s1:\n",
    "    print(\"True\")\n",
    "else:\n",
    "    print(\"False\")"
   ]
  },
  {
   "cell_type": "code",
   "execution_count": 108,
   "metadata": {},
   "outputs": [
    {
     "data": {
      "text/plain": [
       "('srikanya', '', '')"
      ]
     },
     "execution_count": 108,
     "metadata": {},
     "output_type": "execute_result"
    }
   ],
   "source": [
    "len(s3)\n",
    "max(s3)\n",
    "min(s3)\n",
    "s3[1]\n",
    "s3*2\n",
    "s3[1:7:3]\n",
    "s.count(s3)\n",
    "s.partition(s2)"
   ]
  },
  {
   "cell_type": "code",
   "execution_count": null,
   "metadata": {},
   "outputs": [],
   "source": []
  },
  {
   "cell_type": "code",
   "execution_count": null,
   "metadata": {},
   "outputs": [],
   "source": []
  }
 ],
 "metadata": {
  "kernelspec": {
   "display_name": "Python 3",
   "language": "python",
   "name": "python3"
  },
  "language_info": {
   "codemirror_mode": {
    "name": "ipython",
    "version": 3
   },
   "file_extension": ".py",
   "mimetype": "text/x-python",
   "name": "python",
   "nbconvert_exporter": "python",
   "pygments_lexer": "ipython3",
   "version": "3.7.3"
  }
 },
 "nbformat": 4,
 "nbformat_minor": 2
}
